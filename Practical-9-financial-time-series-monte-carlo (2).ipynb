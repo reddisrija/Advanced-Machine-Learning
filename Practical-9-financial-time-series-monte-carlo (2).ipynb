{
 "cells": [
  {
   "cell_type": "markdown",
   "metadata": {
    "_uuid": "5fdb67b8c30b7fdd0593e89cf289d88f6316f61f"
   },
   "source": [
    "**IN THIS KERNEL, I WILL TRY TO EXAMINE A FINANCIAL TIME SERIES AND DO SOME MODELING**"
   ]
  },
  {
   "cell_type": "code",
   "execution_count": 1,
   "metadata": {
    "_cell_guid": "b1076dfc-b9ad-4769-8c92-a6c4dae69d19",
    "_uuid": "8f2839f25d086af736a60e9eeb907d3b93b6e0e5"
   },
   "outputs": [],
   "source": [
    "# This Python 3 environment comes with many helpful analytics libraries installed\n",
    "# It is defined by the kaggle/python docker image: https://github.com/kaggle/docker-python\n",
    "# For example, here's several helpful packages to load in \n",
    "\n",
    "import numpy as np # linear algebra\n",
    "import pandas as pd # data processing, CSV file I/O (e.g. pd.read_csv)\n",
    "\n",
    "# Input data files are available in the \"../input/\" directory.\n",
    "# For example, running this (by clicking run or pressing Shift+Enter) will list the files in the input directory\n",
    "\n",
    "import os\n",
    "# Any results you write to the current directory are saved as output."
   ]
  },
  {
   "cell_type": "code",
   "execution_count": 2,
   "metadata": {
    "_cell_guid": "79c7e3d0-c299-4dcb-8224-4455121ee9b0",
    "_uuid": "d629ff2d2480ee46fbb7e2d37f6b5fab8052498a"
   },
   "outputs": [],
   "source": [
    "data =pd.read_csv(\"all_stocks_5yr.csv\")"
   ]
  },
  {
   "cell_type": "code",
   "execution_count": 3,
   "metadata": {
    "_uuid": "0aec4cabc1879bb27326e11bba924cf7de01e159"
   },
   "outputs": [
    {
     "data": {
      "text/html": [
       "<div>\n",
       "<style scoped>\n",
       "    .dataframe tbody tr th:only-of-type {\n",
       "        vertical-align: middle;\n",
       "    }\n",
       "\n",
       "    .dataframe tbody tr th {\n",
       "        vertical-align: top;\n",
       "    }\n",
       "\n",
       "    .dataframe thead th {\n",
       "        text-align: right;\n",
       "    }\n",
       "</style>\n",
       "<table border=\"1\" class=\"dataframe\">\n",
       "  <thead>\n",
       "    <tr style=\"text-align: right;\">\n",
       "      <th></th>\n",
       "      <th>date</th>\n",
       "      <th>open</th>\n",
       "      <th>high</th>\n",
       "      <th>low</th>\n",
       "      <th>close</th>\n",
       "      <th>volume</th>\n",
       "      <th>Name</th>\n",
       "    </tr>\n",
       "  </thead>\n",
       "  <tbody>\n",
       "    <tr>\n",
       "      <th>0</th>\n",
       "      <td>2013-02-08</td>\n",
       "      <td>15.07</td>\n",
       "      <td>15.12</td>\n",
       "      <td>14.63</td>\n",
       "      <td>14.75</td>\n",
       "      <td>8407500</td>\n",
       "      <td>AAL</td>\n",
       "    </tr>\n",
       "    <tr>\n",
       "      <th>1</th>\n",
       "      <td>2013-02-11</td>\n",
       "      <td>14.89</td>\n",
       "      <td>15.01</td>\n",
       "      <td>14.26</td>\n",
       "      <td>14.46</td>\n",
       "      <td>8882000</td>\n",
       "      <td>AAL</td>\n",
       "    </tr>\n",
       "    <tr>\n",
       "      <th>2</th>\n",
       "      <td>2013-02-12</td>\n",
       "      <td>14.45</td>\n",
       "      <td>14.51</td>\n",
       "      <td>14.10</td>\n",
       "      <td>14.27</td>\n",
       "      <td>8126000</td>\n",
       "      <td>AAL</td>\n",
       "    </tr>\n",
       "    <tr>\n",
       "      <th>3</th>\n",
       "      <td>2013-02-13</td>\n",
       "      <td>14.30</td>\n",
       "      <td>14.94</td>\n",
       "      <td>14.25</td>\n",
       "      <td>14.66</td>\n",
       "      <td>10259500</td>\n",
       "      <td>AAL</td>\n",
       "    </tr>\n",
       "    <tr>\n",
       "      <th>4</th>\n",
       "      <td>2013-02-14</td>\n",
       "      <td>14.94</td>\n",
       "      <td>14.96</td>\n",
       "      <td>13.16</td>\n",
       "      <td>13.99</td>\n",
       "      <td>31879900</td>\n",
       "      <td>AAL</td>\n",
       "    </tr>\n",
       "  </tbody>\n",
       "</table>\n",
       "</div>"
      ],
      "text/plain": [
       "         date   open   high    low  close    volume Name\n",
       "0  2013-02-08  15.07  15.12  14.63  14.75   8407500  AAL\n",
       "1  2013-02-11  14.89  15.01  14.26  14.46   8882000  AAL\n",
       "2  2013-02-12  14.45  14.51  14.10  14.27   8126000  AAL\n",
       "3  2013-02-13  14.30  14.94  14.25  14.66  10259500  AAL\n",
       "4  2013-02-14  14.94  14.96  13.16  13.99  31879900  AAL"
      ]
     },
     "execution_count": 3,
     "metadata": {},
     "output_type": "execute_result"
    }
   ],
   "source": [
    "data.head()"
   ]
  },
  {
   "cell_type": "code",
   "execution_count": 4,
   "metadata": {
    "_uuid": "bbdf52da5e55a564370e19065a267ea3b95ca844"
   },
   "outputs": [
    {
     "data": {
      "text/html": [
       "<div>\n",
       "<style scoped>\n",
       "    .dataframe tbody tr th:only-of-type {\n",
       "        vertical-align: middle;\n",
       "    }\n",
       "\n",
       "    .dataframe tbody tr th {\n",
       "        vertical-align: top;\n",
       "    }\n",
       "\n",
       "    .dataframe thead th {\n",
       "        text-align: right;\n",
       "    }\n",
       "</style>\n",
       "<table border=\"1\" class=\"dataframe\">\n",
       "  <thead>\n",
       "    <tr style=\"text-align: right;\">\n",
       "      <th></th>\n",
       "      <th>date</th>\n",
       "      <th>open</th>\n",
       "      <th>high</th>\n",
       "      <th>low</th>\n",
       "      <th>close</th>\n",
       "      <th>volume</th>\n",
       "      <th>Name</th>\n",
       "    </tr>\n",
       "  </thead>\n",
       "  <tbody>\n",
       "    <tr>\n",
       "      <th>619035</th>\n",
       "      <td>2018-02-01</td>\n",
       "      <td>76.84</td>\n",
       "      <td>78.27</td>\n",
       "      <td>76.69</td>\n",
       "      <td>77.82</td>\n",
       "      <td>2982259</td>\n",
       "      <td>ZTS</td>\n",
       "    </tr>\n",
       "    <tr>\n",
       "      <th>619036</th>\n",
       "      <td>2018-02-02</td>\n",
       "      <td>77.53</td>\n",
       "      <td>78.12</td>\n",
       "      <td>76.73</td>\n",
       "      <td>76.78</td>\n",
       "      <td>2595187</td>\n",
       "      <td>ZTS</td>\n",
       "    </tr>\n",
       "    <tr>\n",
       "      <th>619037</th>\n",
       "      <td>2018-02-05</td>\n",
       "      <td>76.64</td>\n",
       "      <td>76.92</td>\n",
       "      <td>73.18</td>\n",
       "      <td>73.83</td>\n",
       "      <td>2962031</td>\n",
       "      <td>ZTS</td>\n",
       "    </tr>\n",
       "    <tr>\n",
       "      <th>619038</th>\n",
       "      <td>2018-02-06</td>\n",
       "      <td>72.74</td>\n",
       "      <td>74.56</td>\n",
       "      <td>72.13</td>\n",
       "      <td>73.27</td>\n",
       "      <td>4924323</td>\n",
       "      <td>ZTS</td>\n",
       "    </tr>\n",
       "    <tr>\n",
       "      <th>619039</th>\n",
       "      <td>2018-02-07</td>\n",
       "      <td>72.70</td>\n",
       "      <td>75.00</td>\n",
       "      <td>72.69</td>\n",
       "      <td>73.86</td>\n",
       "      <td>4534912</td>\n",
       "      <td>ZTS</td>\n",
       "    </tr>\n",
       "  </tbody>\n",
       "</table>\n",
       "</div>"
      ],
      "text/plain": [
       "              date   open   high    low  close   volume Name\n",
       "619035  2018-02-01  76.84  78.27  76.69  77.82  2982259  ZTS\n",
       "619036  2018-02-02  77.53  78.12  76.73  76.78  2595187  ZTS\n",
       "619037  2018-02-05  76.64  76.92  73.18  73.83  2962031  ZTS\n",
       "619038  2018-02-06  72.74  74.56  72.13  73.27  4924323  ZTS\n",
       "619039  2018-02-07  72.70  75.00  72.69  73.86  4534912  ZTS"
      ]
     },
     "execution_count": 4,
     "metadata": {},
     "output_type": "execute_result"
    }
   ],
   "source": [
    "data.tail()"
   ]
  },
  {
   "cell_type": "code",
   "execution_count": 5,
   "metadata": {
    "_uuid": "94337a92d90d7074f790318729163d59ec642043"
   },
   "outputs": [],
   "source": [
    "#I just picked the first stock\n",
    "data = data[data.Name == 'AAL']"
   ]
  },
  {
   "cell_type": "code",
   "execution_count": 6,
   "metadata": {
    "_uuid": "e4419107429aca55f87e1fe044e8ed31576a1147"
   },
   "outputs": [
    {
     "data": {
      "text/html": [
       "<div>\n",
       "<style scoped>\n",
       "    .dataframe tbody tr th:only-of-type {\n",
       "        vertical-align: middle;\n",
       "    }\n",
       "\n",
       "    .dataframe tbody tr th {\n",
       "        vertical-align: top;\n",
       "    }\n",
       "\n",
       "    .dataframe thead th {\n",
       "        text-align: right;\n",
       "    }\n",
       "</style>\n",
       "<table border=\"1\" class=\"dataframe\">\n",
       "  <thead>\n",
       "    <tr style=\"text-align: right;\">\n",
       "      <th></th>\n",
       "      <th>date</th>\n",
       "      <th>open</th>\n",
       "      <th>high</th>\n",
       "      <th>low</th>\n",
       "      <th>close</th>\n",
       "      <th>volume</th>\n",
       "      <th>Name</th>\n",
       "    </tr>\n",
       "  </thead>\n",
       "  <tbody>\n",
       "    <tr>\n",
       "      <th>1254</th>\n",
       "      <td>2018-02-01</td>\n",
       "      <td>54.00</td>\n",
       "      <td>54.64</td>\n",
       "      <td>53.59</td>\n",
       "      <td>53.88</td>\n",
       "      <td>3623078</td>\n",
       "      <td>AAL</td>\n",
       "    </tr>\n",
       "    <tr>\n",
       "      <th>1255</th>\n",
       "      <td>2018-02-02</td>\n",
       "      <td>53.49</td>\n",
       "      <td>53.99</td>\n",
       "      <td>52.03</td>\n",
       "      <td>52.10</td>\n",
       "      <td>5109361</td>\n",
       "      <td>AAL</td>\n",
       "    </tr>\n",
       "    <tr>\n",
       "      <th>1256</th>\n",
       "      <td>2018-02-05</td>\n",
       "      <td>51.99</td>\n",
       "      <td>52.39</td>\n",
       "      <td>49.75</td>\n",
       "      <td>49.76</td>\n",
       "      <td>6878284</td>\n",
       "      <td>AAL</td>\n",
       "    </tr>\n",
       "    <tr>\n",
       "      <th>1257</th>\n",
       "      <td>2018-02-06</td>\n",
       "      <td>49.32</td>\n",
       "      <td>51.50</td>\n",
       "      <td>48.79</td>\n",
       "      <td>51.18</td>\n",
       "      <td>6782480</td>\n",
       "      <td>AAL</td>\n",
       "    </tr>\n",
       "    <tr>\n",
       "      <th>1258</th>\n",
       "      <td>2018-02-07</td>\n",
       "      <td>50.91</td>\n",
       "      <td>51.98</td>\n",
       "      <td>50.89</td>\n",
       "      <td>51.40</td>\n",
       "      <td>4845831</td>\n",
       "      <td>AAL</td>\n",
       "    </tr>\n",
       "  </tbody>\n",
       "</table>\n",
       "</div>"
      ],
      "text/plain": [
       "            date   open   high    low  close   volume Name\n",
       "1254  2018-02-01  54.00  54.64  53.59  53.88  3623078  AAL\n",
       "1255  2018-02-02  53.49  53.99  52.03  52.10  5109361  AAL\n",
       "1256  2018-02-05  51.99  52.39  49.75  49.76  6878284  AAL\n",
       "1257  2018-02-06  49.32  51.50  48.79  51.18  6782480  AAL\n",
       "1258  2018-02-07  50.91  51.98  50.89  51.40  4845831  AAL"
      ]
     },
     "execution_count": 6,
     "metadata": {},
     "output_type": "execute_result"
    }
   ],
   "source": [
    "data.tail()"
   ]
  },
  {
   "cell_type": "markdown",
   "metadata": {
    "_uuid": "930656a3c3351cc25d95a53984b29676eed6bbdb"
   },
   "source": [
    "Let's first use monte carlo simulation for forecasting "
   ]
  },
  {
   "cell_type": "code",
   "execution_count": 7,
   "metadata": {
    "_uuid": "6db236bd42934338ff380ca9c6bcf7cfdb31d5e2"
   },
   "outputs": [],
   "source": [
    "from scipy.stats import norm\n",
    "log_returns = np.log(1 + data.close.pct_change())\n",
    "u = log_returns.mean() #Mean of the logarithmich return\n",
    "var = log_returns.var() #Variance of the logarithic return\n",
    "drift = u - (0.5 * var) #drift / trend of the logarithmic return\n",
    "stdev = log_returns.std() #Standard deviation of the log return\n",
    "\n",
    "\n",
    "t_intervals = 250 #I just wanted to forecast 250 time points\n",
    "iterations = 10 #I wanted to have 10 different forecast\n",
    "\n",
    "daily_returns = np.exp(drift + stdev * norm.ppf(np.random.rand(t_intervals, iterations)))\n",
    "#daily_returns actually is some kind of a noise. When we multiply this with the t time price, we can obtain t+1 time price"
   ]
  },
  {
   "cell_type": "markdown",
   "metadata": {
    "_uuid": "14adb2b246458c4d6ab567b71b2259864de557de"
   },
   "source": [
    "Let's create a variable S0 (inital stock price) equals to the last  closing price ."
   ]
  },
  {
   "cell_type": "code",
   "execution_count": 8,
   "metadata": {
    "_uuid": "e28354b0f69be60926248044c66a3b696051b4b5"
   },
   "outputs": [
    {
     "data": {
      "text/plain": [
       "51.4"
      ]
     },
     "execution_count": 8,
     "metadata": {},
     "output_type": "execute_result"
    }
   ],
   "source": [
    "S0 = data.close.iloc[-1]\n",
    "S0"
   ]
  },
  {
   "cell_type": "code",
   "execution_count": 9,
   "metadata": {
    "_uuid": "7afc4607e76e2fc69eb75b43c7478f9afebfe639"
   },
   "outputs": [
    {
     "data": {
      "text/plain": [
       "array([[51.4, 51.4, 51.4, ..., 51.4, 51.4, 51.4],\n",
       "       [ 0. ,  0. ,  0. , ...,  0. ,  0. ,  0. ],\n",
       "       [ 0. ,  0. ,  0. , ...,  0. ,  0. ,  0. ],\n",
       "       ...,\n",
       "       [ 0. ,  0. ,  0. , ...,  0. ,  0. ,  0. ],\n",
       "       [ 0. ,  0. ,  0. , ...,  0. ,  0. ,  0. ],\n",
       "       [ 0. ,  0. ,  0. , ...,  0. ,  0. ,  0. ]])"
      ]
     },
     "execution_count": 9,
     "metadata": {},
     "output_type": "execute_result"
    }
   ],
   "source": [
    "#Let us first create en empty matrix such as daily returns\n",
    "price_list = np.zeros_like(daily_returns)\n",
    "price_list[0] = S0\n",
    "price_list"
   ]
  },
  {
   "cell_type": "code",
   "execution_count": 10,
   "metadata": {
    "_uuid": "96db99d8aed4ed9bedc377b5e8df930b7fd174c0"
   },
   "outputs": [
    {
     "data": {
      "text/html": [
       "<div>\n",
       "<style scoped>\n",
       "    .dataframe tbody tr th:only-of-type {\n",
       "        vertical-align: middle;\n",
       "    }\n",
       "\n",
       "    .dataframe tbody tr th {\n",
       "        vertical-align: top;\n",
       "    }\n",
       "\n",
       "    .dataframe thead th {\n",
       "        text-align: right;\n",
       "    }\n",
       "</style>\n",
       "<table border=\"1\" class=\"dataframe\">\n",
       "  <thead>\n",
       "    <tr style=\"text-align: right;\">\n",
       "      <th></th>\n",
       "      <th>0</th>\n",
       "      <th>1</th>\n",
       "      <th>2</th>\n",
       "      <th>3</th>\n",
       "      <th>4</th>\n",
       "      <th>5</th>\n",
       "      <th>6</th>\n",
       "      <th>7</th>\n",
       "      <th>8</th>\n",
       "      <th>9</th>\n",
       "      <th>close</th>\n",
       "    </tr>\n",
       "  </thead>\n",
       "  <tbody>\n",
       "    <tr>\n",
       "      <th>0</th>\n",
       "      <td>51.400000</td>\n",
       "      <td>51.400000</td>\n",
       "      <td>51.400000</td>\n",
       "      <td>51.400000</td>\n",
       "      <td>51.400000</td>\n",
       "      <td>51.400000</td>\n",
       "      <td>51.400000</td>\n",
       "      <td>51.400000</td>\n",
       "      <td>51.400000</td>\n",
       "      <td>51.400000</td>\n",
       "      <td>51.400000</td>\n",
       "    </tr>\n",
       "    <tr>\n",
       "      <th>1</th>\n",
       "      <td>50.623709</td>\n",
       "      <td>51.358886</td>\n",
       "      <td>51.669053</td>\n",
       "      <td>51.084333</td>\n",
       "      <td>52.281047</td>\n",
       "      <td>49.985013</td>\n",
       "      <td>51.981472</td>\n",
       "      <td>50.318306</td>\n",
       "      <td>50.709317</td>\n",
       "      <td>52.728180</td>\n",
       "      <td>50.623709</td>\n",
       "    </tr>\n",
       "    <tr>\n",
       "      <th>2</th>\n",
       "      <td>48.371582</td>\n",
       "      <td>52.869546</td>\n",
       "      <td>51.294148</td>\n",
       "      <td>52.203981</td>\n",
       "      <td>51.620371</td>\n",
       "      <td>51.728997</td>\n",
       "      <td>53.539129</td>\n",
       "      <td>50.161678</td>\n",
       "      <td>50.633207</td>\n",
       "      <td>52.092578</td>\n",
       "      <td>48.371582</td>\n",
       "    </tr>\n",
       "    <tr>\n",
       "      <th>3</th>\n",
       "      <td>48.958224</td>\n",
       "      <td>53.166048</td>\n",
       "      <td>53.450857</td>\n",
       "      <td>50.551348</td>\n",
       "      <td>54.363772</td>\n",
       "      <td>51.897872</td>\n",
       "      <td>54.231166</td>\n",
       "      <td>49.318519</td>\n",
       "      <td>54.018678</td>\n",
       "      <td>51.792936</td>\n",
       "      <td>48.958224</td>\n",
       "    </tr>\n",
       "    <tr>\n",
       "      <th>4</th>\n",
       "      <td>48.756248</td>\n",
       "      <td>53.512893</td>\n",
       "      <td>53.151584</td>\n",
       "      <td>50.223760</td>\n",
       "      <td>53.746482</td>\n",
       "      <td>52.775982</td>\n",
       "      <td>54.361929</td>\n",
       "      <td>50.191995</td>\n",
       "      <td>53.740931</td>\n",
       "      <td>51.450727</td>\n",
       "      <td>48.756248</td>\n",
       "    </tr>\n",
       "  </tbody>\n",
       "</table>\n",
       "</div>"
      ],
      "text/plain": [
       "           0          1          2          3          4          5  \\\n",
       "0  51.400000  51.400000  51.400000  51.400000  51.400000  51.400000   \n",
       "1  50.623709  51.358886  51.669053  51.084333  52.281047  49.985013   \n",
       "2  48.371582  52.869546  51.294148  52.203981  51.620371  51.728997   \n",
       "3  48.958224  53.166048  53.450857  50.551348  54.363772  51.897872   \n",
       "4  48.756248  53.512893  53.151584  50.223760  53.746482  52.775982   \n",
       "\n",
       "           6          7          8          9      close  \n",
       "0  51.400000  51.400000  51.400000  51.400000  51.400000  \n",
       "1  51.981472  50.318306  50.709317  52.728180  50.623709  \n",
       "2  53.539129  50.161678  50.633207  52.092578  48.371582  \n",
       "3  54.231166  49.318519  54.018678  51.792936  48.958224  \n",
       "4  54.361929  50.191995  53.740931  51.450727  48.756248  "
      ]
     },
     "execution_count": 10,
     "metadata": {},
     "output_type": "execute_result"
    }
   ],
   "source": [
    "# With a simple for loop, we are going to forecast the next 250 days\n",
    "for t in range(1, t_intervals):\n",
    "    price_list[t] = price_list[t - 1] * daily_returns[t]\n",
    "price_list = pd.DataFrame(price_list)\n",
    "price_list['close'] = price_list[0]\n",
    "price_list.head()"
   ]
  },
  {
   "cell_type": "code",
   "execution_count": 11,
   "metadata": {
    "_uuid": "5a36592996f48d9e187dc3eb64abaa2ce556256a"
   },
   "outputs": [],
   "source": [
    "close = data.close\n",
    "close = pd.DataFrame(close)\n",
    "frames = [close, price_list]\n",
    "monte_carlo_forecast = pd.concat(frames)"
   ]
  },
  {
   "cell_type": "code",
   "execution_count": 12,
   "metadata": {
    "_uuid": "96f9d4692d38b3853027e89cd62c8da2fd03c364"
   },
   "outputs": [
    {
     "data": {
      "text/html": [
       "<div>\n",
       "<style scoped>\n",
       "    .dataframe tbody tr th:only-of-type {\n",
       "        vertical-align: middle;\n",
       "    }\n",
       "\n",
       "    .dataframe tbody tr th {\n",
       "        vertical-align: top;\n",
       "    }\n",
       "\n",
       "    .dataframe thead th {\n",
       "        text-align: right;\n",
       "    }\n",
       "</style>\n",
       "<table border=\"1\" class=\"dataframe\">\n",
       "  <thead>\n",
       "    <tr style=\"text-align: right;\">\n",
       "      <th></th>\n",
       "      <th>close</th>\n",
       "      <th>0</th>\n",
       "      <th>1</th>\n",
       "      <th>2</th>\n",
       "      <th>3</th>\n",
       "      <th>4</th>\n",
       "      <th>5</th>\n",
       "      <th>6</th>\n",
       "      <th>7</th>\n",
       "      <th>8</th>\n",
       "      <th>9</th>\n",
       "    </tr>\n",
       "  </thead>\n",
       "  <tbody>\n",
       "    <tr>\n",
       "      <th>0</th>\n",
       "      <td>14.75</td>\n",
       "      <td>NaN</td>\n",
       "      <td>NaN</td>\n",
       "      <td>NaN</td>\n",
       "      <td>NaN</td>\n",
       "      <td>NaN</td>\n",
       "      <td>NaN</td>\n",
       "      <td>NaN</td>\n",
       "      <td>NaN</td>\n",
       "      <td>NaN</td>\n",
       "      <td>NaN</td>\n",
       "    </tr>\n",
       "    <tr>\n",
       "      <th>1</th>\n",
       "      <td>14.46</td>\n",
       "      <td>NaN</td>\n",
       "      <td>NaN</td>\n",
       "      <td>NaN</td>\n",
       "      <td>NaN</td>\n",
       "      <td>NaN</td>\n",
       "      <td>NaN</td>\n",
       "      <td>NaN</td>\n",
       "      <td>NaN</td>\n",
       "      <td>NaN</td>\n",
       "      <td>NaN</td>\n",
       "    </tr>\n",
       "    <tr>\n",
       "      <th>2</th>\n",
       "      <td>14.27</td>\n",
       "      <td>NaN</td>\n",
       "      <td>NaN</td>\n",
       "      <td>NaN</td>\n",
       "      <td>NaN</td>\n",
       "      <td>NaN</td>\n",
       "      <td>NaN</td>\n",
       "      <td>NaN</td>\n",
       "      <td>NaN</td>\n",
       "      <td>NaN</td>\n",
       "      <td>NaN</td>\n",
       "    </tr>\n",
       "    <tr>\n",
       "      <th>3</th>\n",
       "      <td>14.66</td>\n",
       "      <td>NaN</td>\n",
       "      <td>NaN</td>\n",
       "      <td>NaN</td>\n",
       "      <td>NaN</td>\n",
       "      <td>NaN</td>\n",
       "      <td>NaN</td>\n",
       "      <td>NaN</td>\n",
       "      <td>NaN</td>\n",
       "      <td>NaN</td>\n",
       "      <td>NaN</td>\n",
       "    </tr>\n",
       "    <tr>\n",
       "      <th>4</th>\n",
       "      <td>13.99</td>\n",
       "      <td>NaN</td>\n",
       "      <td>NaN</td>\n",
       "      <td>NaN</td>\n",
       "      <td>NaN</td>\n",
       "      <td>NaN</td>\n",
       "      <td>NaN</td>\n",
       "      <td>NaN</td>\n",
       "      <td>NaN</td>\n",
       "      <td>NaN</td>\n",
       "      <td>NaN</td>\n",
       "    </tr>\n",
       "  </tbody>\n",
       "</table>\n",
       "</div>"
      ],
      "text/plain": [
       "   close   0   1   2   3   4   5   6   7   8   9\n",
       "0  14.75 NaN NaN NaN NaN NaN NaN NaN NaN NaN NaN\n",
       "1  14.46 NaN NaN NaN NaN NaN NaN NaN NaN NaN NaN\n",
       "2  14.27 NaN NaN NaN NaN NaN NaN NaN NaN NaN NaN\n",
       "3  14.66 NaN NaN NaN NaN NaN NaN NaN NaN NaN NaN\n",
       "4  13.99 NaN NaN NaN NaN NaN NaN NaN NaN NaN NaN"
      ]
     },
     "execution_count": 12,
     "metadata": {},
     "output_type": "execute_result"
    }
   ],
   "source": [
    "monte_carlo_forecast.head()"
   ]
  },
  {
   "cell_type": "code",
   "execution_count": 13,
   "metadata": {
    "_uuid": "150cd83ce64e78314fabd915097a361c41447d3f"
   },
   "outputs": [
    {
     "data": {
      "text/html": [
       "<div>\n",
       "<style scoped>\n",
       "    .dataframe tbody tr th:only-of-type {\n",
       "        vertical-align: middle;\n",
       "    }\n",
       "\n",
       "    .dataframe tbody tr th {\n",
       "        vertical-align: top;\n",
       "    }\n",
       "\n",
       "    .dataframe thead th {\n",
       "        text-align: right;\n",
       "    }\n",
       "</style>\n",
       "<table border=\"1\" class=\"dataframe\">\n",
       "  <thead>\n",
       "    <tr style=\"text-align: right;\">\n",
       "      <th></th>\n",
       "      <th>close</th>\n",
       "      <th>0</th>\n",
       "      <th>1</th>\n",
       "      <th>2</th>\n",
       "      <th>3</th>\n",
       "      <th>4</th>\n",
       "      <th>5</th>\n",
       "      <th>6</th>\n",
       "      <th>7</th>\n",
       "      <th>8</th>\n",
       "      <th>9</th>\n",
       "    </tr>\n",
       "  </thead>\n",
       "  <tbody>\n",
       "    <tr>\n",
       "      <th>245</th>\n",
       "      <td>57.072713</td>\n",
       "      <td>57.072713</td>\n",
       "      <td>71.139620</td>\n",
       "      <td>46.869350</td>\n",
       "      <td>41.033465</td>\n",
       "      <td>52.689461</td>\n",
       "      <td>68.512309</td>\n",
       "      <td>74.200340</td>\n",
       "      <td>104.048324</td>\n",
       "      <td>84.546648</td>\n",
       "      <td>54.418705</td>\n",
       "    </tr>\n",
       "    <tr>\n",
       "      <th>246</th>\n",
       "      <td>55.283385</td>\n",
       "      <td>55.283385</td>\n",
       "      <td>74.342201</td>\n",
       "      <td>46.819863</td>\n",
       "      <td>41.124968</td>\n",
       "      <td>51.945647</td>\n",
       "      <td>64.827948</td>\n",
       "      <td>71.519927</td>\n",
       "      <td>102.123687</td>\n",
       "      <td>83.118364</td>\n",
       "      <td>53.061128</td>\n",
       "    </tr>\n",
       "    <tr>\n",
       "      <th>247</th>\n",
       "      <td>55.394901</td>\n",
       "      <td>55.394901</td>\n",
       "      <td>74.471807</td>\n",
       "      <td>45.141375</td>\n",
       "      <td>39.725619</td>\n",
       "      <td>53.214257</td>\n",
       "      <td>64.509974</td>\n",
       "      <td>70.442881</td>\n",
       "      <td>99.342265</td>\n",
       "      <td>84.006958</td>\n",
       "      <td>50.675567</td>\n",
       "    </tr>\n",
       "    <tr>\n",
       "      <th>248</th>\n",
       "      <td>57.399919</td>\n",
       "      <td>57.399919</td>\n",
       "      <td>74.414830</td>\n",
       "      <td>45.101822</td>\n",
       "      <td>39.088865</td>\n",
       "      <td>53.281149</td>\n",
       "      <td>64.809484</td>\n",
       "      <td>72.475020</td>\n",
       "      <td>101.005478</td>\n",
       "      <td>87.269699</td>\n",
       "      <td>49.724993</td>\n",
       "    </tr>\n",
       "    <tr>\n",
       "      <th>249</th>\n",
       "      <td>59.189412</td>\n",
       "      <td>59.189412</td>\n",
       "      <td>76.321950</td>\n",
       "      <td>44.875069</td>\n",
       "      <td>37.648939</td>\n",
       "      <td>52.978285</td>\n",
       "      <td>66.588661</td>\n",
       "      <td>74.687337</td>\n",
       "      <td>102.611272</td>\n",
       "      <td>88.494456</td>\n",
       "      <td>49.390643</td>\n",
       "    </tr>\n",
       "  </tbody>\n",
       "</table>\n",
       "</div>"
      ],
      "text/plain": [
       "         close          0          1          2          3          4  \\\n",
       "245  57.072713  57.072713  71.139620  46.869350  41.033465  52.689461   \n",
       "246  55.283385  55.283385  74.342201  46.819863  41.124968  51.945647   \n",
       "247  55.394901  55.394901  74.471807  45.141375  39.725619  53.214257   \n",
       "248  57.399919  57.399919  74.414830  45.101822  39.088865  53.281149   \n",
       "249  59.189412  59.189412  76.321950  44.875069  37.648939  52.978285   \n",
       "\n",
       "             5          6           7          8          9  \n",
       "245  68.512309  74.200340  104.048324  84.546648  54.418705  \n",
       "246  64.827948  71.519927  102.123687  83.118364  53.061128  \n",
       "247  64.509974  70.442881   99.342265  84.006958  50.675567  \n",
       "248  64.809484  72.475020  101.005478  87.269699  49.724993  \n",
       "249  66.588661  74.687337  102.611272  88.494456  49.390643  "
      ]
     },
     "execution_count": 13,
     "metadata": {},
     "output_type": "execute_result"
    }
   ],
   "source": [
    "monte_carlo_forecast.tail()"
   ]
  },
  {
   "cell_type": "code",
   "execution_count": 14,
   "metadata": {
    "_uuid": "2d1f674a53e1e27f81bb039de6e4ff12b1e5d0c1"
   },
   "outputs": [
    {
     "data": {
      "image/png": "[encoded data removed]",
      "text/plain": [
       "<Figure size 1224x576 with 1 Axes>"
      ]
     },
     "metadata": {
      "needs_background": "light"
     },
     "output_type": "display_data"
    }
   ],
   "source": [
    "monte_carlo = monte_carlo_forecast.iloc[:,:].values\n",
    "import matplotlib.pyplot as plt\n",
    "plt.figure(figsize=(17,8))\n",
    "plt.plot(monte_carlo)\n",
    "plt.show()"
   ]
  },
  {
   "cell_type": "code",
   "execution_count": null,
   "metadata": {
    "_uuid": "550da74d4025214d3b54e3cb1280b315d0d8ee9b"
   },
   "outputs": [],
   "source": []
  }
 ],
 "metadata": {
  "kernelspec": {
   "display_name": "Python 3 (ipykernel)",
   "language": "python",
   "name": "python3"
  },
  "language_info": {
   "codemirror_mode": {
    "name": "ipython",
    "version": 3
   },
   "file_extension": ".py",
   "mimetype": "text/x-python",
   "name": "python",
   "nbconvert_exporter": "python",
   "pygments_lexer": "ipython3",
   "version": "3.9.12"
  }
 },
 "nbformat": 4,
 "nbformat_minor": 4
}
