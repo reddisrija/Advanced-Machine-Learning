{
 "cells": [
  {
   "cell_type": "markdown",
   "id": "6920db00",
   "metadata": {},
   "source": [
    "### AML - ASSIGNMENT 01\n",
    "    REDDI SRIJA R\n",
    "    20BTRCD014"
   ]
  },
  {
   "cell_type": "markdown",
   "id": "5ae7bac6-5cb4-4444-982d-6bb1e5f7884d",
   "metadata": {},
   "source": [
    "### House Price Prediction - Ridge & Lasso Regression"
   ]
  },
  {
   "cell_type": "code",
   "execution_count": 1,
   "id": "ac2b0a5c-98c4-41b2-b070-c687dfc8693e",
   "metadata": {},
   "outputs": [
    {
     "name": "stderr",
     "output_type": "stream",
     "text": [
      "C:\\Users\\Radha Krishna\\anaconda3\\lib\\site-packages\\scipy\\__init__.py:146: UserWarning: A NumPy version >=1.16.5 and <1.23.0 is required for this version of SciPy (detected version 1.23.5\n",
      "  warnings.warn(f\"A NumPy version >={np_minversion} and <{np_maxversion}\"\n"
     ]
    }
   ],
   "source": [
    "import pandas as pd\n",
    "import numpy as np\n",
    "from sklearn.model_selection import train_test_split\n",
    "import matplotlib.pyplot as plt\n",
    "import seaborn as sns"
   ]
  },
  {
   "cell_type": "code",
   "execution_count": 2,
   "id": "2da7f7e8-e41c-4181-af61-c9f007e28655",
   "metadata": {},
   "outputs": [],
   "source": [
    "df_train = pd.read_csv(\"train.csv\")\n",
    "df_test = pd.read_csv(\"test.csv\")"
   ]
  },
  {
   "cell_type": "code",
   "execution_count": 3,
   "id": "8a28b2b9-a47f-425f-a11a-a120e1db971b",
   "metadata": {},
   "outputs": [
    {
     "data": {
      "text/html": [
       "<div>\n",
       "<style scoped>\n",
       "    .dataframe tbody tr th:only-of-type {\n",
       "        vertical-align: middle;\n",
       "    }\n",
       "\n",
       "    .dataframe tbody tr th {\n",
       "        vertical-align: top;\n",
       "    }\n",
       "\n",
       "    .dataframe thead th {\n",
       "        text-align: right;\n",
       "    }\n",
       "</style>\n",
       "<table border=\"1\" class=\"dataframe\">\n",
       "  <thead>\n",
       "    <tr style=\"text-align: right;\">\n",
       "      <th></th>\n",
       "      <th>Id</th>\n",
       "      <th>MSSubClass</th>\n",
       "      <th>MSZoning</th>\n",
       "      <th>LotFrontage</th>\n",
       "      <th>LotArea</th>\n",
       "      <th>Street</th>\n",
       "      <th>Alley</th>\n",
       "      <th>LotShape</th>\n",
       "      <th>LandContour</th>\n",
       "      <th>Utilities</th>\n",
       "      <th>...</th>\n",
       "      <th>PoolArea</th>\n",
       "      <th>PoolQC</th>\n",
       "      <th>Fence</th>\n",
       "      <th>MiscFeature</th>\n",
       "      <th>MiscVal</th>\n",
       "      <th>MoSold</th>\n",
       "      <th>YrSold</th>\n",
       "      <th>SaleType</th>\n",
       "      <th>SaleCondition</th>\n",
       "      <th>SalePrice</th>\n",
       "    </tr>\n",
       "  </thead>\n",
       "  <tbody>\n",
       "    <tr>\n",
       "      <th>0</th>\n",
       "      <td>1</td>\n",
       "      <td>60</td>\n",
       "      <td>RL</td>\n",
       "      <td>65.0</td>\n",
       "      <td>8450</td>\n",
       "      <td>Pave</td>\n",
       "      <td>NaN</td>\n",
       "      <td>Reg</td>\n",
       "      <td>Lvl</td>\n",
       "      <td>AllPub</td>\n",
       "      <td>...</td>\n",
       "      <td>0</td>\n",
       "      <td>NaN</td>\n",
       "      <td>NaN</td>\n",
       "      <td>NaN</td>\n",
       "      <td>0</td>\n",
       "      <td>2</td>\n",
       "      <td>2008</td>\n",
       "      <td>WD</td>\n",
       "      <td>Normal</td>\n",
       "      <td>208500</td>\n",
       "    </tr>\n",
       "    <tr>\n",
       "      <th>1</th>\n",
       "      <td>2</td>\n",
       "      <td>20</td>\n",
       "      <td>RL</td>\n",
       "      <td>80.0</td>\n",
       "      <td>9600</td>\n",
       "      <td>Pave</td>\n",
       "      <td>NaN</td>\n",
       "      <td>Reg</td>\n",
       "      <td>Lvl</td>\n",
       "      <td>AllPub</td>\n",
       "      <td>...</td>\n",
       "      <td>0</td>\n",
       "      <td>NaN</td>\n",
       "      <td>NaN</td>\n",
       "      <td>NaN</td>\n",
       "      <td>0</td>\n",
       "      <td>5</td>\n",
       "      <td>2007</td>\n",
       "      <td>WD</td>\n",
       "      <td>Normal</td>\n",
       "      <td>181500</td>\n",
       "    </tr>\n",
       "    <tr>\n",
       "      <th>2</th>\n",
       "      <td>3</td>\n",
       "      <td>60</td>\n",
       "      <td>RL</td>\n",
       "      <td>68.0</td>\n",
       "      <td>11250</td>\n",
       "      <td>Pave</td>\n",
       "      <td>NaN</td>\n",
       "      <td>IR1</td>\n",
       "      <td>Lvl</td>\n",
       "      <td>AllPub</td>\n",
       "      <td>...</td>\n",
       "      <td>0</td>\n",
       "      <td>NaN</td>\n",
       "      <td>NaN</td>\n",
       "      <td>NaN</td>\n",
       "      <td>0</td>\n",
       "      <td>9</td>\n",
       "      <td>2008</td>\n",
       "      <td>WD</td>\n",
       "      <td>Normal</td>\n",
       "      <td>223500</td>\n",
       "    </tr>\n",
       "    <tr>\n",
       "      <th>3</th>\n",
       "      <td>4</td>\n",
       "      <td>70</td>\n",
       "      <td>RL</td>\n",
       "      <td>60.0</td>\n",
       "      <td>9550</td>\n",
       "      <td>Pave</td>\n",
       "      <td>NaN</td>\n",
       "      <td>IR1</td>\n",
       "      <td>Lvl</td>\n",
       "      <td>AllPub</td>\n",
       "      <td>...</td>\n",
       "      <td>0</td>\n",
       "      <td>NaN</td>\n",
       "      <td>NaN</td>\n",
       "      <td>NaN</td>\n",
       "      <td>0</td>\n",
       "      <td>2</td>\n",
       "      <td>2006</td>\n",
       "      <td>WD</td>\n",
       "      <td>Abnorml</td>\n",
       "      <td>140000</td>\n",
       "    </tr>\n",
       "    <tr>\n",
       "      <th>4</th>\n",
       "      <td>5</td>\n",
       "      <td>60</td>\n",
       "      <td>RL</td>\n",
       "      <td>84.0</td>\n",
       "      <td>14260</td>\n",
       "      <td>Pave</td>\n",
       "      <td>NaN</td>\n",
       "      <td>IR1</td>\n",
       "      <td>Lvl</td>\n",
       "      <td>AllPub</td>\n",
       "      <td>...</td>\n",
       "      <td>0</td>\n",
       "      <td>NaN</td>\n",
       "      <td>NaN</td>\n",
       "      <td>NaN</td>\n",
       "      <td>0</td>\n",
       "      <td>12</td>\n",
       "      <td>2008</td>\n",
       "      <td>WD</td>\n",
       "      <td>Normal</td>\n",
       "      <td>250000</td>\n",
       "    </tr>\n",
       "  </tbody>\n",
       "</table>\n",
       "<p>5 rows × 81 columns</p>\n",
       "</div>"
      ],
      "text/plain": [
       "   Id  MSSubClass MSZoning  LotFrontage  LotArea Street Alley LotShape  \\\n",
       "0   1          60       RL         65.0     8450   Pave   NaN      Reg   \n",
       "1   2          20       RL         80.0     9600   Pave   NaN      Reg   \n",
       "2   3          60       RL         68.0    11250   Pave   NaN      IR1   \n",
       "3   4          70       RL         60.0     9550   Pave   NaN      IR1   \n",
       "4   5          60       RL         84.0    14260   Pave   NaN      IR1   \n",
       "\n",
       "  LandContour Utilities  ... PoolArea PoolQC Fence MiscFeature MiscVal MoSold  \\\n",
       "0         Lvl    AllPub  ...        0    NaN   NaN         NaN       0      2   \n",
       "1         Lvl    AllPub  ...        0    NaN   NaN         NaN       0      5   \n",
       "2         Lvl    AllPub  ...        0    NaN   NaN         NaN       0      9   \n",
       "3         Lvl    AllPub  ...        0    NaN   NaN         NaN       0      2   \n",
       "4         Lvl    AllPub  ...        0    NaN   NaN         NaN       0     12   \n",
       "\n",
       "  YrSold  SaleType  SaleCondition  SalePrice  \n",
       "0   2008        WD         Normal     208500  \n",
       "1   2007        WD         Normal     181500  \n",
       "2   2008        WD         Normal     223500  \n",
       "3   2006        WD        Abnorml     140000  \n",
       "4   2008        WD         Normal     250000  \n",
       "\n",
       "[5 rows x 81 columns]"
      ]
     },
     "execution_count": 3,
     "metadata": {},
     "output_type": "execute_result"
    }
   ],
   "source": [
    "df_train.head()"
   ]
  },
  {
   "cell_type": "markdown",
   "id": "9881bde9-633e-4497-9550-765948e26cc4",
   "metadata": {},
   "source": [
    "### Exploratory Data Analysis"
   ]
  },
  {
   "cell_type": "code",
   "execution_count": 4,
   "id": "0ee47dfa-3716-44e7-8e81-5b7eff47dc01",
   "metadata": {},
   "outputs": [
    {
     "data": {
      "text/plain": [
       "Index(['Id', 'MSSubClass', 'MSZoning', 'LotFrontage', 'LotArea', 'Street',\n",
       "       'Alley', 'LotShape', 'LandContour', 'Utilities', 'LotConfig',\n",
       "       'LandSlope', 'Neighborhood', 'Condition1', 'Condition2', 'BldgType',\n",
       "       'HouseStyle', 'OverallQual', 'OverallCond', 'YearBuilt', 'YearRemodAdd',\n",
       "       'RoofStyle', 'RoofMatl', 'Exterior1st', 'Exterior2nd', 'MasVnrType',\n",
       "       'MasVnrArea', 'ExterQual', 'ExterCond', 'Foundation', 'BsmtQual',\n",
       "       'BsmtCond', 'BsmtExposure', 'BsmtFinType1', 'BsmtFinSF1',\n",
       "       'BsmtFinType2', 'BsmtFinSF2', 'BsmtUnfSF', 'TotalBsmtSF', 'Heating',\n",
       "       'HeatingQC', 'CentralAir', 'Electrical', '1stFlrSF', '2ndFlrSF',\n",
       "       'LowQualFinSF', 'GrLivArea', 'BsmtFullBath', 'BsmtHalfBath', 'FullBath',\n",
       "       'HalfBath', 'BedroomAbvGr', 'KitchenAbvGr', 'KitchenQual',\n",
       "       'TotRmsAbvGrd', 'Functional', 'Fireplaces', 'FireplaceQu', 'GarageType',\n",
       "       'GarageYrBlt', 'GarageFinish', 'GarageCars', 'GarageArea', 'GarageQual',\n",
       "       'GarageCond', 'PavedDrive', 'WoodDeckSF', 'OpenPorchSF',\n",
       "       'EnclosedPorch', '3SsnPorch', 'ScreenPorch', 'PoolArea', 'PoolQC',\n",
       "       'Fence', 'MiscFeature', 'MiscVal', 'MoSold', 'YrSold', 'SaleType',\n",
       "       'SaleCondition', 'SalePrice'],\n",
       "      dtype='object')"
      ]
     },
     "execution_count": 4,
     "metadata": {},
     "output_type": "execute_result"
    }
   ],
   "source": [
    "df_train.columns"
   ]
  },
  {
   "cell_type": "markdown",
   "id": "cb77783c-f5a9-4437-af0d-b1373b5abb07",
   "metadata": {},
   "source": [
    "`MSSubClass`: type of house involved in the sale.\n",
    "`MSZoning`: zoning classification like industry, residential, etc.\n",
    "`LotFrontage`: Linear feet of street connected to property\n",
    "`LotArea`: Lot size in square feet\n",
    "`Street`: gravel or paved street\n",
    "`Alley`: gravel or paved street or no alley ta all\n",
    "`LotShape`: regular, slightly/moderately irregular or irregular\n",
    "`LandContour`: Flatness of the property\n",
    "`Utilities`: Type of utilities available like water, electricity\n",
    "`LotConfig`: Lot configuration\n",
    "`LandSlope`: Slope of property\n",
    "`Neighborhood`: Physical locations within Ames city limits\n",
    "`BldgType`: type of house, single, double, duplex\n",
    "`HouseStyle`: house style, split-level,fully-finished, etc\n",
    "`OverallQual`: Rates the overall material and finish of the house\n",
    "`OverallCond`: Rates the overall condition of the house\n",
    "`YearBuilt`: Original construction date\n",
    "`YearRemodAdd`: Remodel date\n",
    "`RoofStyle`: Type of roof\n",
    "`RoofMatl`: Roof material\n",
    "`Exterior1st`: Exterior covering on house\n",
    "`MasVnrType`: Masonry veneer type, wall construction type (bricks,concrete,etc)\n",
    "`MasVnrArea`: Masonry veneer area in square feet\n",
    "`ExterQual`: Evaluates the quality of the material on the exterior \n",
    "`Foundation`: Type of foundation\n",
    "`BsmtQual`: Evaluates the height of the basement\n",
    "`BsmtExposure`: Refers to walkout or garden level walls\n",
    "`BsmtFinType1`: Rating of basement finished area (type2 if multiple types)\n",
    "`BsmtUnfSF`: Unfinished square feet of basement area\n",
    "`TotalBsmtSF`: Total square feet of basement area\n",
    "`GrLivArea`: Above grade (ground) living area square feet\n",
    "`BsmtFullBath`: Basement full bathrooms\n",
    "`BsmtHalfBath`: Basement half bathrooms\n",
    "`FullBath`: Full bathrooms above grade\n",
    "`HalfBath`: Half baths above grade\n",
    "`TotRmsAbvGrd`: Total rooms above grade\n",
    "`GarageCars`: Size of garage in car capacity\n",
    "`PavedDrive`: Paved driveway\n",
    "`3SsnPorch`: Three season porch area in square feet\n",
    "`MiscFeature`: Miscellaneous feature not covered in other categories, tennis court, elevator,shed"
   ]
  },
  {
   "cell_type": "code",
   "execution_count": 5,
   "id": "f1cdf1d2-8001-47c5-841f-6bdb306dd87c",
   "metadata": {},
   "outputs": [
    {
     "name": "stdout",
     "output_type": "stream",
     "text": [
      "<class 'pandas.core.frame.DataFrame'>\n",
      "RangeIndex: 1460 entries, 0 to 1459\n",
      "Data columns (total 81 columns):\n",
      " #   Column         Non-Null Count  Dtype  \n",
      "---  ------         --------------  -----  \n",
      " 0   Id             1460 non-null   int64  \n",
      " 1   MSSubClass     1460 non-null   int64  \n",
      " 2   MSZoning       1460 non-null   object \n",
      " 3   LotFrontage    1201 non-null   float64\n",
      " 4   LotArea        1460 non-null   int64  \n",
      " 5   Street         1460 non-null   object \n",
      " 6   Alley          91 non-null     object \n",
      " 7   LotShape       1460 non-null   object \n",
      " 8   LandContour    1460 non-null   object \n",
      " 9   Utilities      1460 non-null   object \n",
      " 10  LotConfig      1460 non-null   object \n",
      " 11  LandSlope      1460 non-null   object \n",
      " 12  Neighborhood   1460 non-null   object \n",
      " 13  Condition1     1460 non-null   object \n",
      " 14  Condition2     1460 non-null   object \n",
      " 15  BldgType       1460 non-null   object \n",
      " 16  HouseStyle     1460 non-null   object \n",
      " 17  OverallQual    1460 non-null   int64  \n",
      " 18  OverallCond    1460 non-null   int64  \n",
      " 19  YearBuilt      1460 non-null   int64  \n",
      " 20  YearRemodAdd   1460 non-null   int64  \n",
      " 21  RoofStyle      1460 non-null   object \n",
      " 22  RoofMatl       1460 non-null   object \n",
      " 23  Exterior1st    1460 non-null   object \n",
      " 24  Exterior2nd    1460 non-null   object \n",
      " 25  MasVnrType     1452 non-null   object \n",
      " 26  MasVnrArea     1452 non-null   float64\n",
      " 27  ExterQual      1460 non-null   object \n",
      " 28  ExterCond      1460 non-null   object \n",
      " 29  Foundation     1460 non-null   object \n",
      " 30  BsmtQual       1423 non-null   object \n",
      " 31  BsmtCond       1423 non-null   object \n",
      " 32  BsmtExposure   1422 non-null   object \n",
      " 33  BsmtFinType1   1423 non-null   object \n",
      " 34  BsmtFinSF1     1460 non-null   int64  \n",
      " 35  BsmtFinType2   1422 non-null   object \n",
      " 36  BsmtFinSF2     1460 non-null   int64  \n",
      " 37  BsmtUnfSF      1460 non-null   int64  \n",
      " 38  TotalBsmtSF    1460 non-null   int64  \n",
      " 39  Heating        1460 non-null   object \n",
      " 40  HeatingQC      1460 non-null   object \n",
      " 41  CentralAir     1460 non-null   object \n",
      " 42  Electrical     1459 non-null   object \n",
      " 43  1stFlrSF       1460 non-null   int64  \n",
      " 44  2ndFlrSF       1460 non-null   int64  \n",
      " 45  LowQualFinSF   1460 non-null   int64  \n",
      " 46  GrLivArea      1460 non-null   int64  \n",
      " 47  BsmtFullBath   1460 non-null   int64  \n",
      " 48  BsmtHalfBath   1460 non-null   int64  \n",
      " 49  FullBath       1460 non-null   int64  \n",
      " 50  HalfBath       1460 non-null   int64  \n",
      " 51  BedroomAbvGr   1460 non-null   int64  \n",
      " 52  KitchenAbvGr   1460 non-null   int64  \n",
      " 53  KitchenQual    1460 non-null   object \n",
      " 54  TotRmsAbvGrd   1460 non-null   int64  \n",
      " 55  Functional     1460 non-null   object \n",
      " 56  Fireplaces     1460 non-null   int64  \n",
      " 57  FireplaceQu    770 non-null    object \n",
      " 58  GarageType     1379 non-null   object \n",
      " 59  GarageYrBlt    1379 non-null   float64\n",
      " 60  GarageFinish   1379 non-null   object \n",
      " 61  GarageCars     1460 non-null   int64  \n",
      " 62  GarageArea     1460 non-null   int64  \n",
      " 63  GarageQual     1379 non-null   object \n",
      " 64  GarageCond     1379 non-null   object \n",
      " 65  PavedDrive     1460 non-null   object \n",
      " 66  WoodDeckSF     1460 non-null   int64  \n",
      " 67  OpenPorchSF    1460 non-null   int64  \n",
      " 68  EnclosedPorch  1460 non-null   int64  \n",
      " 69  3SsnPorch      1460 non-null   int64  \n",
      " 70  ScreenPorch    1460 non-null   int64  \n",
      " 71  PoolArea       1460 non-null   int64  \n",
      " 72  PoolQC         7 non-null      object \n",
      " 73  Fence          281 non-null    object \n",
      " 74  MiscFeature    54 non-null     object \n",
      " 75  MiscVal        1460 non-null   int64  \n",
      " 76  MoSold         1460 non-null   int64  \n",
      " 77  YrSold         1460 non-null   int64  \n",
      " 78  SaleType       1460 non-null   object \n",
      " 79  SaleCondition  1460 non-null   object \n",
      " 80  SalePrice      1460 non-null   int64  \n",
      "dtypes: float64(3), int64(35), object(43)\n",
      "memory usage: 924.0+ KB\n"
     ]
    }
   ],
   "source": [
    "df_train.info()"
   ]
  },
  {
   "cell_type": "code",
   "execution_count": 6,
   "id": "eadd8261-f71f-414c-91fd-1bf0fc8b3933",
   "metadata": {},
   "outputs": [
    {
     "data": {
      "text/plain": [
       "(1460, 81)"
      ]
     },
     "execution_count": 6,
     "metadata": {},
     "output_type": "execute_result"
    }
   ],
   "source": [
    "df_train.shape"
   ]
  },
  {
   "cell_type": "code",
   "execution_count": 7,
   "id": "1a85d1c2-8241-4496-88f9-5d94cc217cea",
   "metadata": {},
   "outputs": [
    {
     "data": {
      "text/plain": [
       "Id                 0\n",
       "MSSubClass         0\n",
       "MSZoning           0\n",
       "LotFrontage      259\n",
       "LotArea            0\n",
       "                ... \n",
       "MoSold             0\n",
       "YrSold             0\n",
       "SaleType           0\n",
       "SaleCondition      0\n",
       "SalePrice          0\n",
       "Length: 81, dtype: int64"
      ]
     },
     "execution_count": 7,
     "metadata": {},
     "output_type": "execute_result"
    }
   ],
   "source": [
    "df_train.isna().sum()"
   ]
  },
  {
   "cell_type": "raw",
   "id": "fa59e21d-66f1-4f98-87ab-a385cfa4f286",
   "metadata": {},
   "source": [
    "for r in df_train.columns:\n",
    "    print(f\"Unique values of {r}'s are: {df_train[r].nunique()}\")\n",
    "    print(f\"{df_train[r].unique()}\\n\")"
   ]
  },
  {
   "cell_type": "markdown",
   "id": "49e8baa0-6b33-4e7d-8363-4bd2255dd503",
   "metadata": {},
   "source": [
    "### Data Cleaning"
   ]
  },
  {
   "cell_type": "code",
   "execution_count": 8,
   "id": "c907e732-3867-4aa8-8006-2bb9d2773135",
   "metadata": {},
   "outputs": [],
   "source": [
    "#let's deal with null-numerical data first\n",
    "# we have three attributes\n",
    "# using fillna method to fill '0' value (as there are less null values)\n",
    "\n",
    "# distance value can't be just any mean value, so just fill with 0\n",
    "df_train['LotFrontage'].fillna(0,inplace=True)\n",
    "\n",
    "# year value will be invalid if written by any statistical measures\n",
    "df_train['GarageYrBlt'].fillna(0,inplace=True)\n",
    "\n",
    "# area can't be any random value\n",
    "df_train['MasVnrArea'].fillna(0,inplace=True)"
   ]
  },
  {
   "cell_type": "code",
   "execution_count": 9,
   "id": "2694358a-1c04-47c4-b1cc-4eb6d93d3c70",
   "metadata": {},
   "outputs": [],
   "source": [
    "# categorical values\n",
    "# using mode to fill null values as `electrical` attribute has categories\n",
    "e_mode = df_train['Electrical'].mode()[0]\n",
    "df_train['Electrical'].fillna(e_mode, inplace=True)"
   ]
  },
  {
   "cell_type": "code",
   "execution_count": 10,
   "id": "53b60de1-5eec-4467-afba-c2d7446ab1c5",
   "metadata": {},
   "outputs": [],
   "source": [
    "# quality check categories are'nt meant to be taken as mode and replace with null values\n",
    "# use 'unknown' tern to replace null values\n",
    "\n",
    "df_train['Alley'].fillna('Unknown', inplace=True)\n",
    "df_train['BsmtQual'].fillna(\"Unknown\", inplace=True)\n",
    "df_train['BsmtCond'].fillna(\"Unknown\", inplace=True)\n",
    "df_train['BsmtExposure'].fillna(\"Unknown\", inplace=True)\n",
    "df_train['BsmtFinType1'].fillna(\"Unknown\", inplace=True)\n",
    "df_train['BsmtFinType2'].fillna(\"Unknown\", inplace=True)\n",
    "df_train['FireplaceQu'].fillna(\"Unknown\", inplace=True)\n",
    "df_train['GarageType'].fillna(\"Unknown\", inplace=True)\n",
    "df_train['GarageCond'].fillna(\"Unknown\", inplace=True)\n",
    "df_train['GarageFinish'].fillna(\"Unknown\", inplace=True)\n",
    "df_train['GarageQual'].fillna(\"Unknown\", inplace=True)\n",
    "df_train['PoolQC'].fillna(\"Unknown\", inplace=True)\n",
    "df_train['Fence'].fillna(\"Unknown\", inplace=True)\n",
    "df_train['MiscFeature'].fillna(\"Unknown\", inplace=True)\n",
    "df_train['MasVnrType'].fillna(\"Unknown\", inplace=True)"
   ]
  },
  {
   "cell_type": "code",
   "execution_count": 11,
   "id": "4bf8352b-e6a5-4a62-b7d0-175a59e9c44d",
   "metadata": {},
   "outputs": [
    {
     "data": {
      "text/plain": [
       "0"
      ]
     },
     "execution_count": 11,
     "metadata": {},
     "output_type": "execute_result"
    }
   ],
   "source": [
    "df_train.isnull().sum().sum()"
   ]
  },
  {
   "cell_type": "markdown",
   "id": "8cc1f167-16a0-42f6-b958-06e9fc8ee5ed",
   "metadata": {},
   "source": [
    "As there is no null values found, let's proceed with our prediction"
   ]
  },
  {
   "cell_type": "code",
   "execution_count": 12,
   "id": "a987197f-1680-44fa-82ae-976890edee79",
   "metadata": {},
   "outputs": [],
   "source": [
    "#df_train.drop(['Id'],axis=1)"
   ]
  },
  {
   "cell_type": "code",
   "execution_count": 13,
   "id": "c266376f-927f-4def-a336-9ea5df9fa621",
   "metadata": {},
   "outputs": [
    {
     "data": {
      "text/plain": [
       "0"
      ]
     },
     "execution_count": 13,
     "metadata": {},
     "output_type": "execute_result"
    }
   ],
   "source": [
    "df_train.duplicated().sum()"
   ]
  },
  {
   "cell_type": "markdown",
   "id": "02936bf2-e542-4480-8507-eb6e2a58d6a4",
   "metadata": {},
   "source": [
    "No duplicate values are found"
   ]
  },
  {
   "cell_type": "code",
   "execution_count": 14,
   "id": "a7a99b8e-c441-49c3-9eb9-c59f226f7474",
   "metadata": {},
   "outputs": [
    {
     "data": {
      "text/html": [
       "<div>\n",
       "<style scoped>\n",
       "    .dataframe tbody tr th:only-of-type {\n",
       "        vertical-align: middle;\n",
       "    }\n",
       "\n",
       "    .dataframe tbody tr th {\n",
       "        vertical-align: top;\n",
       "    }\n",
       "\n",
       "    .dataframe thead th {\n",
       "        text-align: right;\n",
       "    }\n",
       "</style>\n",
       "<table border=\"1\" class=\"dataframe\">\n",
       "  <thead>\n",
       "    <tr style=\"text-align: right;\">\n",
       "      <th></th>\n",
       "      <th>Id</th>\n",
       "      <th>MSSubClass</th>\n",
       "      <th>LotFrontage</th>\n",
       "      <th>LotArea</th>\n",
       "      <th>OverallQual</th>\n",
       "      <th>OverallCond</th>\n",
       "      <th>YearBuilt</th>\n",
       "      <th>YearRemodAdd</th>\n",
       "      <th>MasVnrArea</th>\n",
       "      <th>BsmtFinSF1</th>\n",
       "      <th>...</th>\n",
       "      <th>WoodDeckSF</th>\n",
       "      <th>OpenPorchSF</th>\n",
       "      <th>EnclosedPorch</th>\n",
       "      <th>3SsnPorch</th>\n",
       "      <th>ScreenPorch</th>\n",
       "      <th>PoolArea</th>\n",
       "      <th>MiscVal</th>\n",
       "      <th>MoSold</th>\n",
       "      <th>YrSold</th>\n",
       "      <th>SalePrice</th>\n",
       "    </tr>\n",
       "  </thead>\n",
       "  <tbody>\n",
       "    <tr>\n",
       "      <th>count</th>\n",
       "      <td>1460.000000</td>\n",
       "      <td>1460.000000</td>\n",
       "      <td>1460.000000</td>\n",
       "      <td>1460.000000</td>\n",
       "      <td>1460.000000</td>\n",
       "      <td>1460.000000</td>\n",
       "      <td>1460.000000</td>\n",
       "      <td>1460.000000</td>\n",
       "      <td>1460.000000</td>\n",
       "      <td>1460.000000</td>\n",
       "      <td>...</td>\n",
       "      <td>1460.000000</td>\n",
       "      <td>1460.000000</td>\n",
       "      <td>1460.000000</td>\n",
       "      <td>1460.000000</td>\n",
       "      <td>1460.000000</td>\n",
       "      <td>1460.000000</td>\n",
       "      <td>1460.000000</td>\n",
       "      <td>1460.000000</td>\n",
       "      <td>1460.000000</td>\n",
       "      <td>1460.000000</td>\n",
       "    </tr>\n",
       "    <tr>\n",
       "      <th>mean</th>\n",
       "      <td>730.500000</td>\n",
       "      <td>56.897260</td>\n",
       "      <td>57.623288</td>\n",
       "      <td>10516.828082</td>\n",
       "      <td>6.099315</td>\n",
       "      <td>5.575342</td>\n",
       "      <td>1971.267808</td>\n",
       "      <td>1984.865753</td>\n",
       "      <td>103.117123</td>\n",
       "      <td>443.639726</td>\n",
       "      <td>...</td>\n",
       "      <td>94.244521</td>\n",
       "      <td>46.660274</td>\n",
       "      <td>21.954110</td>\n",
       "      <td>3.409589</td>\n",
       "      <td>15.060959</td>\n",
       "      <td>2.758904</td>\n",
       "      <td>43.489041</td>\n",
       "      <td>6.321918</td>\n",
       "      <td>2007.815753</td>\n",
       "      <td>180921.195890</td>\n",
       "    </tr>\n",
       "    <tr>\n",
       "      <th>std</th>\n",
       "      <td>421.610009</td>\n",
       "      <td>42.300571</td>\n",
       "      <td>34.664304</td>\n",
       "      <td>9981.264932</td>\n",
       "      <td>1.382997</td>\n",
       "      <td>1.112799</td>\n",
       "      <td>30.202904</td>\n",
       "      <td>20.645407</td>\n",
       "      <td>180.731373</td>\n",
       "      <td>456.098091</td>\n",
       "      <td>...</td>\n",
       "      <td>125.338794</td>\n",
       "      <td>66.256028</td>\n",
       "      <td>61.119149</td>\n",
       "      <td>29.317331</td>\n",
       "      <td>55.757415</td>\n",
       "      <td>40.177307</td>\n",
       "      <td>496.123024</td>\n",
       "      <td>2.703626</td>\n",
       "      <td>1.328095</td>\n",
       "      <td>79442.502883</td>\n",
       "    </tr>\n",
       "    <tr>\n",
       "      <th>min</th>\n",
       "      <td>1.000000</td>\n",
       "      <td>20.000000</td>\n",
       "      <td>0.000000</td>\n",
       "      <td>1300.000000</td>\n",
       "      <td>1.000000</td>\n",
       "      <td>1.000000</td>\n",
       "      <td>1872.000000</td>\n",
       "      <td>1950.000000</td>\n",
       "      <td>0.000000</td>\n",
       "      <td>0.000000</td>\n",
       "      <td>...</td>\n",
       "      <td>0.000000</td>\n",
       "      <td>0.000000</td>\n",
       "      <td>0.000000</td>\n",
       "      <td>0.000000</td>\n",
       "      <td>0.000000</td>\n",
       "      <td>0.000000</td>\n",
       "      <td>0.000000</td>\n",
       "      <td>1.000000</td>\n",
       "      <td>2006.000000</td>\n",
       "      <td>34900.000000</td>\n",
       "    </tr>\n",
       "    <tr>\n",
       "      <th>25%</th>\n",
       "      <td>365.750000</td>\n",
       "      <td>20.000000</td>\n",
       "      <td>42.000000</td>\n",
       "      <td>7553.500000</td>\n",
       "      <td>5.000000</td>\n",
       "      <td>5.000000</td>\n",
       "      <td>1954.000000</td>\n",
       "      <td>1967.000000</td>\n",
       "      <td>0.000000</td>\n",
       "      <td>0.000000</td>\n",
       "      <td>...</td>\n",
       "      <td>0.000000</td>\n",
       "      <td>0.000000</td>\n",
       "      <td>0.000000</td>\n",
       "      <td>0.000000</td>\n",
       "      <td>0.000000</td>\n",
       "      <td>0.000000</td>\n",
       "      <td>0.000000</td>\n",
       "      <td>5.000000</td>\n",
       "      <td>2007.000000</td>\n",
       "      <td>129975.000000</td>\n",
       "    </tr>\n",
       "    <tr>\n",
       "      <th>50%</th>\n",
       "      <td>730.500000</td>\n",
       "      <td>50.000000</td>\n",
       "      <td>63.000000</td>\n",
       "      <td>9478.500000</td>\n",
       "      <td>6.000000</td>\n",
       "      <td>5.000000</td>\n",
       "      <td>1973.000000</td>\n",
       "      <td>1994.000000</td>\n",
       "      <td>0.000000</td>\n",
       "      <td>383.500000</td>\n",
       "      <td>...</td>\n",
       "      <td>0.000000</td>\n",
       "      <td>25.000000</td>\n",
       "      <td>0.000000</td>\n",
       "      <td>0.000000</td>\n",
       "      <td>0.000000</td>\n",
       "      <td>0.000000</td>\n",
       "      <td>0.000000</td>\n",
       "      <td>6.000000</td>\n",
       "      <td>2008.000000</td>\n",
       "      <td>163000.000000</td>\n",
       "    </tr>\n",
       "    <tr>\n",
       "      <th>75%</th>\n",
       "      <td>1095.250000</td>\n",
       "      <td>70.000000</td>\n",
       "      <td>79.000000</td>\n",
       "      <td>11601.500000</td>\n",
       "      <td>7.000000</td>\n",
       "      <td>6.000000</td>\n",
       "      <td>2000.000000</td>\n",
       "      <td>2004.000000</td>\n",
       "      <td>164.250000</td>\n",
       "      <td>712.250000</td>\n",
       "      <td>...</td>\n",
       "      <td>168.000000</td>\n",
       "      <td>68.000000</td>\n",
       "      <td>0.000000</td>\n",
       "      <td>0.000000</td>\n",
       "      <td>0.000000</td>\n",
       "      <td>0.000000</td>\n",
       "      <td>0.000000</td>\n",
       "      <td>8.000000</td>\n",
       "      <td>2009.000000</td>\n",
       "      <td>214000.000000</td>\n",
       "    </tr>\n",
       "    <tr>\n",
       "      <th>max</th>\n",
       "      <td>1460.000000</td>\n",
       "      <td>190.000000</td>\n",
       "      <td>313.000000</td>\n",
       "      <td>215245.000000</td>\n",
       "      <td>10.000000</td>\n",
       "      <td>9.000000</td>\n",
       "      <td>2010.000000</td>\n",
       "      <td>2010.000000</td>\n",
       "      <td>1600.000000</td>\n",
       "      <td>5644.000000</td>\n",
       "      <td>...</td>\n",
       "      <td>857.000000</td>\n",
       "      <td>547.000000</td>\n",
       "      <td>552.000000</td>\n",
       "      <td>508.000000</td>\n",
       "      <td>480.000000</td>\n",
       "      <td>738.000000</td>\n",
       "      <td>15500.000000</td>\n",
       "      <td>12.000000</td>\n",
       "      <td>2010.000000</td>\n",
       "      <td>755000.000000</td>\n",
       "    </tr>\n",
       "  </tbody>\n",
       "</table>\n",
       "<p>8 rows × 38 columns</p>\n",
       "</div>"
      ],
      "text/plain": [
       "                Id   MSSubClass  LotFrontage        LotArea  OverallQual  \\\n",
       "count  1460.000000  1460.000000  1460.000000    1460.000000  1460.000000   \n",
       "mean    730.500000    56.897260    57.623288   10516.828082     6.099315   \n",
       "std     421.610009    42.300571    34.664304    9981.264932     1.382997   \n",
       "min       1.000000    20.000000     0.000000    1300.000000     1.000000   \n",
       "25%     365.750000    20.000000    42.000000    7553.500000     5.000000   \n",
       "50%     730.500000    50.000000    63.000000    9478.500000     6.000000   \n",
       "75%    1095.250000    70.000000    79.000000   11601.500000     7.000000   \n",
       "max    1460.000000   190.000000   313.000000  215245.000000    10.000000   \n",
       "\n",
       "       OverallCond    YearBuilt  YearRemodAdd   MasVnrArea   BsmtFinSF1  ...  \\\n",
       "count  1460.000000  1460.000000   1460.000000  1460.000000  1460.000000  ...   \n",
       "mean      5.575342  1971.267808   1984.865753   103.117123   443.639726  ...   \n",
       "std       1.112799    30.202904     20.645407   180.731373   456.098091  ...   \n",
       "min       1.000000  1872.000000   1950.000000     0.000000     0.000000  ...   \n",
       "25%       5.000000  1954.000000   1967.000000     0.000000     0.000000  ...   \n",
       "50%       5.000000  1973.000000   1994.000000     0.000000   383.500000  ...   \n",
       "75%       6.000000  2000.000000   2004.000000   164.250000   712.250000  ...   \n",
       "max       9.000000  2010.000000   2010.000000  1600.000000  5644.000000  ...   \n",
       "\n",
       "        WoodDeckSF  OpenPorchSF  EnclosedPorch    3SsnPorch  ScreenPorch  \\\n",
       "count  1460.000000  1460.000000    1460.000000  1460.000000  1460.000000   \n",
       "mean     94.244521    46.660274      21.954110     3.409589    15.060959   \n",
       "std     125.338794    66.256028      61.119149    29.317331    55.757415   \n",
       "min       0.000000     0.000000       0.000000     0.000000     0.000000   \n",
       "25%       0.000000     0.000000       0.000000     0.000000     0.000000   \n",
       "50%       0.000000    25.000000       0.000000     0.000000     0.000000   \n",
       "75%     168.000000    68.000000       0.000000     0.000000     0.000000   \n",
       "max     857.000000   547.000000     552.000000   508.000000   480.000000   \n",
       "\n",
       "          PoolArea       MiscVal       MoSold       YrSold      SalePrice  \n",
       "count  1460.000000   1460.000000  1460.000000  1460.000000    1460.000000  \n",
       "mean      2.758904     43.489041     6.321918  2007.815753  180921.195890  \n",
       "std      40.177307    496.123024     2.703626     1.328095   79442.502883  \n",
       "min       0.000000      0.000000     1.000000  2006.000000   34900.000000  \n",
       "25%       0.000000      0.000000     5.000000  2007.000000  129975.000000  \n",
       "50%       0.000000      0.000000     6.000000  2008.000000  163000.000000  \n",
       "75%       0.000000      0.000000     8.000000  2009.000000  214000.000000  \n",
       "max     738.000000  15500.000000    12.000000  2010.000000  755000.000000  \n",
       "\n",
       "[8 rows x 38 columns]"
      ]
     },
     "execution_count": 14,
     "metadata": {},
     "output_type": "execute_result"
    }
   ],
   "source": [
    "df_train.describe()"
   ]
  },
  {
   "cell_type": "markdown",
   "id": "8c37ad82-0caa-42f6-9993-c8e79b9aeadd",
   "metadata": {},
   "source": [
    "### Data Encoding"
   ]
  },
  {
   "cell_type": "markdown",
   "id": "865ad704-de70-4d35-9b20-1d427d387646",
   "metadata": {
    "tags": []
   },
   "source": [
    "Performing data encoding, to include all necessary attributes in house price prediction."
   ]
  },
  {
   "cell_type": "markdown",
   "id": "bea1617c-978a-4ef3-adbb-e786d7a3f2a3",
   "metadata": {},
   "source": [
    "For example, based on previous users, property's quality and condition can be considered and apply the price tag accordingly."
   ]
  },
  {
   "cell_type": "markdown",
   "id": "3ba66e25",
   "metadata": {},
   "source": [
    "`NOTE`: code of Data encoding part is reffered from https://www.kaggle.com/code/waichiuwong1/house-prices-advanced-regression-techniques"
   ]
  },
  {
   "cell_type": "code",
   "execution_count": 15,
   "id": "e60bb38c-a8f2-416c-8ad4-aca91a9a1f84",
   "metadata": {},
   "outputs": [],
   "source": [
    "# Calculate age of property at time of sale\n",
    "df_train['HouseAge'] = df_train['YrSold'] - df_train['YearRemodAdd']\n",
    "\n",
    "bins = [0, 10, 20, 30, 40, 50, 60, 70, 80, 90, 100, 110, 120, 130, 140, 150, 160, 170]\n",
    "labels = ['0-10', '10-20', '20-30', '30-40', '40-50', '50-60', '60-70', '70-80', '80-90', '90-100', '100-110', '110-120', '120-130', '130-140', '140-150', '150-160', '160-170']\n",
    "df_train['Age_Group'] = pd.cut(df_train['HouseAge'], bins=bins, labels=labels, include_lowest=True)\n",
    "df_train['Age_Group'] = df_train['Age_Group'].astype('category')"
   ]
  },
  {
   "cell_type": "code",
   "execution_count": 16,
   "id": "813dd621-5ec5-4ca9-9245-ec2725e348dc",
   "metadata": {},
   "outputs": [],
   "source": [
    "#weights = {'TenC': 2, 'Elev': 1.5, 'Gar2': 1.1, 'Othr': 0.6, 'Shed': 0.3, 'Unknown': 0.0}\n",
    "weights = {'TenC': 2000, 'Elev': 3000, 'Gar2': 9283, 'Othr': 3300, 'Shed': 800, 'Unknown': 0.0}\n",
    "df_train ['MiscFeature'] = df_train['MiscFeature'].map(weights)"
   ]
  },
  {
   "cell_type": "code",
   "execution_count": 17,
   "id": "25a2b9da-2696-4aed-9d55-7da9b87d9224",
   "metadata": {},
   "outputs": [],
   "source": [
    "weights = {'Ex': 1.5, 'Gd': 1.3, 'TA': 1, 'Fa': 0.6, 'Po': 0.3, 'Unknown': 0.0}\n",
    "df_train ['BsmtQual'] = df_train['BsmtQual'].map(weights)\n",
    "df_train ['BsmtCond'] = df_train['BsmtCond'].map(weights)"
   ]
  },
  {
   "cell_type": "code",
   "execution_count": 18,
   "id": "0e36abd3-e6be-4f6a-94af-d8307577be74",
   "metadata": {},
   "outputs": [],
   "source": [
    "weights = {'Gd': 1.5, 'Av': 1.2, 'Mn': 0.9, 'No': 0.6, 'Unknown': 0.0}\n",
    "df_train ['BsmtExposure'] = df_train ['BsmtExposure'].map(weights)\n",
    "\n",
    "weights = {'Ex': 1.5, 'Gd': 1.2, 'TA': 1, 'Fa': 0.8, 'Po': 0.5}\n",
    "df_train ['HeatingQC'] = df_train ['HeatingQC'].map(weights)\n",
    "\n",
    "weights = {'Reg': 1.0, 'IR1': 0.8, 'IR2': 0.6, 'IR3': 0.4}\n",
    "df_train ['LotShape'] = df_train ['LotShape'].map(weights)\n",
    "\n",
    "weights = {10: 2, 9: 1.8, 8: 1.65, 7: 1.45, 6: 1.15, 5: 0.85, 4: 0.6, 3: 0.4, 2: 0.2, 1: 0.1}\n",
    "df_train ['OverallQual'] =df_train['OverallQual'].map(weights)\n",
    "df_train ['OverallCond'] = df_train ['OverallCond'].map(weights)\n",
    "\n",
    "weights = {'Ex': 1.5, 'Gd': 1.3, 'TA': 1, 'Fa': 0.6, 'Po': 0.3}\n",
    "df_train ['ExterCond'] = df_train ['ExterCond'].map(weights)\n",
    "df_train ['ExterQual'] =df_train ['ExterQual'].map(weights)"
   ]
  },
  {
   "cell_type": "code",
   "execution_count": 19,
   "id": "cf32fa8a-c829-4187-8cd7-75b063d7349f",
   "metadata": {},
   "outputs": [],
   "source": [
    "weights = {'GLQ': 1.5, 'ALQ': 1.2, 'BLQ': 0.9, 'Rec': 0.6, 'LwQ': 0.3, 'Unf': 0.2, 'Unknown': 0.0}\n",
    "df_train ['BsmtFinType1'] = df_train['BsmtFinType1'].map(weights)\n",
    "df_train ['BsmtFinType2'] = df_train ['BsmtFinType1'].map(weights)\n",
    "\n",
    "weights = {'Ex': 1.5, 'Gd': 1.2, 'TA': 1.0, 'Fa': 0.6, 'Po': 0.3}\n",
    "df_train ['KitchenQual'] = df_train ['KitchenQual'].map(weights)\n",
    "\n",
    "weights = {'Fin': 1.5, 'RFn': 1, 'Unf': 0.6, 'Unknown': 0}\n",
    "df_train['GarageFinish'] = df_train ['GarageFinish'].map(weights)\n",
    "\n",
    "weights = {'Ex': 1.5, 'Gd': 1.3, 'TA': 1, 'Fa': 0.6, 'Po': 0.3, 'Unknown': 0.0}\n",
    "df_train ['GarageQual'] = df_train ['GarageQual'].map(weights)\n",
    "df_train ['GarageCond'] = df_train ['GarageCond'].map(weights)\n",
    "\n",
    "weights = {'Ex': 1.5, 'Gd': 1.3, 'TA': 1, 'Fa': 0.7,'Unknown': 0.0}\n",
    "df_train ['PoolQC'] = df_train ['PoolQC'].map(weights)"
   ]
  },
  {
   "cell_type": "markdown",
   "id": "a1bdb189-918e-4921-90bb-579ce2c0a42f",
   "metadata": {},
   "source": [
    "Though we did data encoding of all categorized attributes, there might be some problems related to data distribution.\n",
    "\n",
    "So, let's use Label Encoding to normalize the whole data labels"
   ]
  },
  {
   "cell_type": "code",
   "execution_count": 20,
   "id": "91906409-afc5-4154-a5ab-e8fea1599e65",
   "metadata": {},
   "outputs": [],
   "source": [
    "from sklearn.preprocessing import LabelEncoder\n",
    "normal_data = ['MSSubClass', 'MSZoning', 'Street', 'Alley', 'LandContour', 'Utilities', 'LotConfig', 'LandSlope', 'Neighborhood', 'Condition1', 'Condition2', 'BldgType', 'HouseStyle', 'YearBuilt', 'YearRemodAdd', 'RoofStyle', 'RoofMatl', 'Exterior1st', 'Exterior2nd', 'MasVnrType', 'Foundation', 'Heating', 'CentralAir', 'Electrical', 'Functional', 'FireplaceQu', 'PavedDrive', 'GarageType', 'Fence', 'SaleType', 'SaleCondition', 'Age_Group']\n",
    "encoded_data = ['BsmtQual', 'BsmtCond', 'BsmtExposure', 'HeatingQC', 'LotShape', 'OverallQual', 'OverallCond', 'ExterCond', 'ExterQual', 'BsmtFinType1', 'BsmtFinType2', 'KitchenQual', 'GarageFinish', 'GarageQual', 'GarageCond', 'PoolQC', 'Age_Group']\n",
    "le = LabelEncoder()\n",
    "for column in normal_data:\n",
    "    df_train[column] = le.fit_transform(df_train[column])\n",
    "for column in encoded_data:\n",
    "    df_train[column] = le.fit_transform(df_train[column])"
   ]
  },
  {
   "cell_type": "markdown",
   "id": "c5afec70-1df9-481c-903c-4cd1a5fea87d",
   "metadata": {},
   "source": [
    "Feature Scaling"
   ]
  },
  {
   "cell_type": "markdown",
   "id": "977ea844-d72e-42ec-a484-e7e58a121582",
   "metadata": {},
   "source": [
    "scaling the range of features in our dataset for better interpretation from our model."
   ]
  },
  {
   "cell_type": "code",
   "execution_count": 21,
   "id": "b27c433a-e5a3-4537-8593-455dc077805a",
   "metadata": {},
   "outputs": [
    {
     "data": {
      "text/plain": [
       "0         0.0\n",
       "1         0.0\n",
       "2         0.0\n",
       "3         0.0\n",
       "4         0.0\n",
       "        ...  \n",
       "1455      0.0\n",
       "1456      0.0\n",
       "1457    800.0\n",
       "1458      0.0\n",
       "1459      0.0\n",
       "Name: MiscFeature, Length: 1460, dtype: float64"
      ]
     },
     "execution_count": 21,
     "metadata": {},
     "output_type": "execute_result"
    }
   ],
   "source": [
    "df_train['MiscFeature']"
   ]
  },
  {
   "cell_type": "markdown",
   "id": "25965c93-3b7c-4b62-b2cc-6f8fa5b604de",
   "metadata": {},
   "source": [
    "As we can see that `MiscFeature` has values with very different scale from 0 to 800."
   ]
  },
  {
   "cell_type": "code",
   "execution_count": 22,
   "id": "a13e3499-f8eb-4ba9-94ed-a3a12f7d890c",
   "metadata": {},
   "outputs": [],
   "source": [
    "feature_set = df_train.drop(['SalePrice'], axis=1)"
   ]
  },
  {
   "cell_type": "code",
   "execution_count": 23,
   "id": "d512f65b-bc8a-4ac1-a92d-749694890931",
   "metadata": {},
   "outputs": [
    {
     "data": {
      "text/html": [
       "<div>\n",
       "<style scoped>\n",
       "    .dataframe tbody tr th:only-of-type {\n",
       "        vertical-align: middle;\n",
       "    }\n",
       "\n",
       "    .dataframe tbody tr th {\n",
       "        vertical-align: top;\n",
       "    }\n",
       "\n",
       "    .dataframe thead th {\n",
       "        text-align: right;\n",
       "    }\n",
       "</style>\n",
       "<table border=\"1\" class=\"dataframe\">\n",
       "  <thead>\n",
       "    <tr style=\"text-align: right;\">\n",
       "      <th></th>\n",
       "      <th>Id</th>\n",
       "      <th>MSSubClass</th>\n",
       "      <th>MSZoning</th>\n",
       "      <th>LotFrontage</th>\n",
       "      <th>LotArea</th>\n",
       "      <th>Street</th>\n",
       "      <th>Alley</th>\n",
       "      <th>LotShape</th>\n",
       "      <th>LandContour</th>\n",
       "      <th>Utilities</th>\n",
       "      <th>...</th>\n",
       "      <th>PoolQC</th>\n",
       "      <th>Fence</th>\n",
       "      <th>MiscFeature</th>\n",
       "      <th>MiscVal</th>\n",
       "      <th>MoSold</th>\n",
       "      <th>YrSold</th>\n",
       "      <th>SaleType</th>\n",
       "      <th>SaleCondition</th>\n",
       "      <th>HouseAge</th>\n",
       "      <th>Age_Group</th>\n",
       "    </tr>\n",
       "  </thead>\n",
       "  <tbody>\n",
       "    <tr>\n",
       "      <th>0</th>\n",
       "      <td>-1.730865</td>\n",
       "      <td>0.200350</td>\n",
       "      <td>-0.045532</td>\n",
       "      <td>0.212877</td>\n",
       "      <td>-0.207142</td>\n",
       "      <td>0.064238</td>\n",
       "      <td>0.244717</td>\n",
       "      <td>0.701291</td>\n",
       "      <td>0.314667</td>\n",
       "      <td>-0.02618</td>\n",
       "      <td>...</td>\n",
       "      <td>-0.064907</td>\n",
       "      <td>0.457447</td>\n",
       "      <td>-0.115415</td>\n",
       "      <td>-0.087688</td>\n",
       "      <td>-1.599111</td>\n",
       "      <td>0.138777</td>\n",
       "      <td>0.313867</td>\n",
       "      <td>0.208502</td>\n",
       "      <td>-0.869941</td>\n",
       "      <td>-0.932923</td>\n",
       "    </tr>\n",
       "    <tr>\n",
       "      <th>1</th>\n",
       "      <td>-1.728492</td>\n",
       "      <td>-1.001421</td>\n",
       "      <td>-0.045532</td>\n",
       "      <td>0.645747</td>\n",
       "      <td>-0.091886</td>\n",
       "      <td>0.064238</td>\n",
       "      <td>0.244717</td>\n",
       "      <td>0.701291</td>\n",
       "      <td>0.314667</td>\n",
       "      <td>-0.02618</td>\n",
       "      <td>...</td>\n",
       "      <td>-0.064907</td>\n",
       "      <td>0.457447</td>\n",
       "      <td>-0.115415</td>\n",
       "      <td>-0.087688</td>\n",
       "      <td>-0.489110</td>\n",
       "      <td>-0.614439</td>\n",
       "      <td>0.313867</td>\n",
       "      <td>0.208502</td>\n",
       "      <td>0.390141</td>\n",
       "      <td>0.607878</td>\n",
       "    </tr>\n",
       "    <tr>\n",
       "      <th>2</th>\n",
       "      <td>-1.726120</td>\n",
       "      <td>0.200350</td>\n",
       "      <td>-0.045532</td>\n",
       "      <td>0.299451</td>\n",
       "      <td>0.073480</td>\n",
       "      <td>0.064238</td>\n",
       "      <td>0.244717</td>\n",
       "      <td>-1.016637</td>\n",
       "      <td>0.314667</td>\n",
       "      <td>-0.02618</td>\n",
       "      <td>...</td>\n",
       "      <td>-0.064907</td>\n",
       "      <td>0.457447</td>\n",
       "      <td>-0.115415</td>\n",
       "      <td>-0.087688</td>\n",
       "      <td>0.990891</td>\n",
       "      <td>0.138777</td>\n",
       "      <td>0.313867</td>\n",
       "      <td>0.208502</td>\n",
       "      <td>-0.821476</td>\n",
       "      <td>-0.932923</td>\n",
       "    </tr>\n",
       "    <tr>\n",
       "      <th>3</th>\n",
       "      <td>-1.723747</td>\n",
       "      <td>0.440704</td>\n",
       "      <td>-0.045532</td>\n",
       "      <td>0.068587</td>\n",
       "      <td>-0.096897</td>\n",
       "      <td>0.064238</td>\n",
       "      <td>0.244717</td>\n",
       "      <td>-1.016637</td>\n",
       "      <td>0.314667</td>\n",
       "      <td>-0.02618</td>\n",
       "      <td>...</td>\n",
       "      <td>-0.064907</td>\n",
       "      <td>0.457447</td>\n",
       "      <td>-0.115415</td>\n",
       "      <td>-0.087688</td>\n",
       "      <td>-1.599111</td>\n",
       "      <td>-1.367655</td>\n",
       "      <td>0.313867</td>\n",
       "      <td>-3.426284</td>\n",
       "      <td>0.632464</td>\n",
       "      <td>0.607878</td>\n",
       "    </tr>\n",
       "    <tr>\n",
       "      <th>4</th>\n",
       "      <td>-1.721374</td>\n",
       "      <td>0.200350</td>\n",
       "      <td>-0.045532</td>\n",
       "      <td>0.761179</td>\n",
       "      <td>0.375148</td>\n",
       "      <td>0.064238</td>\n",
       "      <td>0.244717</td>\n",
       "      <td>-1.016637</td>\n",
       "      <td>0.314667</td>\n",
       "      <td>-0.02618</td>\n",
       "      <td>...</td>\n",
       "      <td>-0.064907</td>\n",
       "      <td>0.457447</td>\n",
       "      <td>-0.115415</td>\n",
       "      <td>-0.087688</td>\n",
       "      <td>2.100892</td>\n",
       "      <td>0.138777</td>\n",
       "      <td>0.313867</td>\n",
       "      <td>0.208502</td>\n",
       "      <td>-0.724547</td>\n",
       "      <td>-0.932923</td>\n",
       "    </tr>\n",
       "    <tr>\n",
       "      <th>...</th>\n",
       "      <td>...</td>\n",
       "      <td>...</td>\n",
       "      <td>...</td>\n",
       "      <td>...</td>\n",
       "      <td>...</td>\n",
       "      <td>...</td>\n",
       "      <td>...</td>\n",
       "      <td>...</td>\n",
       "      <td>...</td>\n",
       "      <td>...</td>\n",
       "      <td>...</td>\n",
       "      <td>...</td>\n",
       "      <td>...</td>\n",
       "      <td>...</td>\n",
       "      <td>...</td>\n",
       "      <td>...</td>\n",
       "      <td>...</td>\n",
       "      <td>...</td>\n",
       "      <td>...</td>\n",
       "      <td>...</td>\n",
       "      <td>...</td>\n",
       "    </tr>\n",
       "    <tr>\n",
       "      <th>1455</th>\n",
       "      <td>1.721374</td>\n",
       "      <td>0.200350</td>\n",
       "      <td>-0.045532</td>\n",
       "      <td>0.126303</td>\n",
       "      <td>-0.260560</td>\n",
       "      <td>0.064238</td>\n",
       "      <td>0.244717</td>\n",
       "      <td>0.701291</td>\n",
       "      <td>0.314667</td>\n",
       "      <td>-0.02618</td>\n",
       "      <td>...</td>\n",
       "      <td>-0.064907</td>\n",
       "      <td>0.457447</td>\n",
       "      <td>-0.115415</td>\n",
       "      <td>-0.087688</td>\n",
       "      <td>0.620891</td>\n",
       "      <td>-0.614439</td>\n",
       "      <td>0.313867</td>\n",
       "      <td>0.208502</td>\n",
       "      <td>-0.773012</td>\n",
       "      <td>-0.932923</td>\n",
       "    </tr>\n",
       "    <tr>\n",
       "      <th>1456</th>\n",
       "      <td>1.723747</td>\n",
       "      <td>-1.001421</td>\n",
       "      <td>-0.045532</td>\n",
       "      <td>0.790037</td>\n",
       "      <td>0.266407</td>\n",
       "      <td>0.064238</td>\n",
       "      <td>0.244717</td>\n",
       "      <td>0.701291</td>\n",
       "      <td>0.314667</td>\n",
       "      <td>-0.02618</td>\n",
       "      <td>...</td>\n",
       "      <td>-0.064907</td>\n",
       "      <td>-1.390058</td>\n",
       "      <td>-0.115415</td>\n",
       "      <td>-0.087688</td>\n",
       "      <td>-1.599111</td>\n",
       "      <td>1.645210</td>\n",
       "      <td>0.313867</td>\n",
       "      <td>0.208502</td>\n",
       "      <td>-0.046041</td>\n",
       "      <td>0.094277</td>\n",
       "    </tr>\n",
       "    <tr>\n",
       "      <th>1457</th>\n",
       "      <td>1.726120</td>\n",
       "      <td>0.440704</td>\n",
       "      <td>-0.045532</td>\n",
       "      <td>0.241735</td>\n",
       "      <td>-0.147810</td>\n",
       "      <td>0.064238</td>\n",
       "      <td>0.244717</td>\n",
       "      <td>0.701291</td>\n",
       "      <td>0.314667</td>\n",
       "      <td>-0.02618</td>\n",
       "      <td>...</td>\n",
       "      <td>-0.064907</td>\n",
       "      <td>-3.237563</td>\n",
       "      <td>1.915818</td>\n",
       "      <td>4.953112</td>\n",
       "      <td>-0.489110</td>\n",
       "      <td>1.645210</td>\n",
       "      <td>0.313867</td>\n",
       "      <td>0.208502</td>\n",
       "      <td>-0.918406</td>\n",
       "      <td>-0.932923</td>\n",
       "    </tr>\n",
       "    <tr>\n",
       "      <th>1458</th>\n",
       "      <td>1.728492</td>\n",
       "      <td>-1.001421</td>\n",
       "      <td>-0.045532</td>\n",
       "      <td>0.299451</td>\n",
       "      <td>-0.080160</td>\n",
       "      <td>0.064238</td>\n",
       "      <td>0.244717</td>\n",
       "      <td>0.701291</td>\n",
       "      <td>0.314667</td>\n",
       "      <td>-0.02618</td>\n",
       "      <td>...</td>\n",
       "      <td>-0.064907</td>\n",
       "      <td>0.457447</td>\n",
       "      <td>-0.115415</td>\n",
       "      <td>-0.087688</td>\n",
       "      <td>-0.859110</td>\n",
       "      <td>1.645210</td>\n",
       "      <td>0.313867</td>\n",
       "      <td>0.208502</td>\n",
       "      <td>-0.433759</td>\n",
       "      <td>-0.419323</td>\n",
       "    </tr>\n",
       "    <tr>\n",
       "      <th>1459</th>\n",
       "      <td>1.730865</td>\n",
       "      <td>-1.001421</td>\n",
       "      <td>-0.045532</td>\n",
       "      <td>0.501457</td>\n",
       "      <td>-0.058112</td>\n",
       "      <td>0.064238</td>\n",
       "      <td>0.244717</td>\n",
       "      <td>0.701291</td>\n",
       "      <td>0.314667</td>\n",
       "      <td>-0.02618</td>\n",
       "      <td>...</td>\n",
       "      <td>-0.064907</td>\n",
       "      <td>0.457447</td>\n",
       "      <td>-0.115415</td>\n",
       "      <td>-0.087688</td>\n",
       "      <td>-0.119110</td>\n",
       "      <td>0.138777</td>\n",
       "      <td>0.313867</td>\n",
       "      <td>0.208502</td>\n",
       "      <td>0.971717</td>\n",
       "      <td>1.121478</td>\n",
       "    </tr>\n",
       "  </tbody>\n",
       "</table>\n",
       "<p>1460 rows × 82 columns</p>\n",
       "</div>"
      ],
      "text/plain": [
       "            Id  MSSubClass  MSZoning  LotFrontage   LotArea    Street  \\\n",
       "0    -1.730865    0.200350 -0.045532     0.212877 -0.207142  0.064238   \n",
       "1    -1.728492   -1.001421 -0.045532     0.645747 -0.091886  0.064238   \n",
       "2    -1.726120    0.200350 -0.045532     0.299451  0.073480  0.064238   \n",
       "3    -1.723747    0.440704 -0.045532     0.068587 -0.096897  0.064238   \n",
       "4    -1.721374    0.200350 -0.045532     0.761179  0.375148  0.064238   \n",
       "...        ...         ...       ...          ...       ...       ...   \n",
       "1455  1.721374    0.200350 -0.045532     0.126303 -0.260560  0.064238   \n",
       "1456  1.723747   -1.001421 -0.045532     0.790037  0.266407  0.064238   \n",
       "1457  1.726120    0.440704 -0.045532     0.241735 -0.147810  0.064238   \n",
       "1458  1.728492   -1.001421 -0.045532     0.299451 -0.080160  0.064238   \n",
       "1459  1.730865   -1.001421 -0.045532     0.501457 -0.058112  0.064238   \n",
       "\n",
       "         Alley  LotShape  LandContour  Utilities  ...    PoolQC     Fence  \\\n",
       "0     0.244717  0.701291     0.314667   -0.02618  ... -0.064907  0.457447   \n",
       "1     0.244717  0.701291     0.314667   -0.02618  ... -0.064907  0.457447   \n",
       "2     0.244717 -1.016637     0.314667   -0.02618  ... -0.064907  0.457447   \n",
       "3     0.244717 -1.016637     0.314667   -0.02618  ... -0.064907  0.457447   \n",
       "4     0.244717 -1.016637     0.314667   -0.02618  ... -0.064907  0.457447   \n",
       "...        ...       ...          ...        ...  ...       ...       ...   \n",
       "1455  0.244717  0.701291     0.314667   -0.02618  ... -0.064907  0.457447   \n",
       "1456  0.244717  0.701291     0.314667   -0.02618  ... -0.064907 -1.390058   \n",
       "1457  0.244717  0.701291     0.314667   -0.02618  ... -0.064907 -3.237563   \n",
       "1458  0.244717  0.701291     0.314667   -0.02618  ... -0.064907  0.457447   \n",
       "1459  0.244717  0.701291     0.314667   -0.02618  ... -0.064907  0.457447   \n",
       "\n",
       "      MiscFeature   MiscVal    MoSold    YrSold  SaleType  SaleCondition  \\\n",
       "0       -0.115415 -0.087688 -1.599111  0.138777  0.313867       0.208502   \n",
       "1       -0.115415 -0.087688 -0.489110 -0.614439  0.313867       0.208502   \n",
       "2       -0.115415 -0.087688  0.990891  0.138777  0.313867       0.208502   \n",
       "3       -0.115415 -0.087688 -1.599111 -1.367655  0.313867      -3.426284   \n",
       "4       -0.115415 -0.087688  2.100892  0.138777  0.313867       0.208502   \n",
       "...           ...       ...       ...       ...       ...            ...   \n",
       "1455    -0.115415 -0.087688  0.620891 -0.614439  0.313867       0.208502   \n",
       "1456    -0.115415 -0.087688 -1.599111  1.645210  0.313867       0.208502   \n",
       "1457     1.915818  4.953112 -0.489110  1.645210  0.313867       0.208502   \n",
       "1458    -0.115415 -0.087688 -0.859110  1.645210  0.313867       0.208502   \n",
       "1459    -0.115415 -0.087688 -0.119110  0.138777  0.313867       0.208502   \n",
       "\n",
       "      HouseAge  Age_Group  \n",
       "0    -0.869941  -0.932923  \n",
       "1     0.390141   0.607878  \n",
       "2    -0.821476  -0.932923  \n",
       "3     0.632464   0.607878  \n",
       "4    -0.724547  -0.932923  \n",
       "...        ...        ...  \n",
       "1455 -0.773012  -0.932923  \n",
       "1456 -0.046041   0.094277  \n",
       "1457 -0.918406  -0.932923  \n",
       "1458 -0.433759  -0.419323  \n",
       "1459  0.971717   1.121478  \n",
       "\n",
       "[1460 rows x 82 columns]"
      ]
     },
     "execution_count": 23,
     "metadata": {},
     "output_type": "execute_result"
    }
   ],
   "source": [
    "from sklearn.preprocessing import StandardScaler\n",
    "ss = StandardScaler()\n",
    "feature_scaled=feature_set.copy()\n",
    "feature_scaled=ss.fit_transform(feature_scaled)\n",
    "feature_scaled=pd.DataFrame(feature_scaled, columns=feature_set.columns)\n",
    "feature_scaled"
   ]
  },
  {
   "cell_type": "markdown",
   "id": "3f2dd966-d1b9-4a73-9d4d-a8269ef5319c",
   "metadata": {},
   "source": [
    "Finding relationship between various attributes by correlation method"
   ]
  },
  {
   "cell_type": "code",
   "execution_count": 24,
   "id": "fae86404-8033-40d1-8169-42bbfda4754b",
   "metadata": {},
   "outputs": [
    {
     "data": {
      "image/png": "[encoded data removed]",
      "text/plain": [
       "<Figure size 720x504 with 2 Axes>"
      ]
     },
     "metadata": {
      "needs_background": "light"
     },
     "output_type": "display_data"
    }
   ],
   "source": [
    "plt.figure(figsize=(10,7))\n",
    "sns.heatmap(feature_scaled.corr())#, annot=True)\n",
    "plt.show()"
   ]
  },
  {
   "cell_type": "markdown",
   "id": "739810b6",
   "metadata": {},
   "source": [
    "### Model Implementation"
   ]
  },
  {
   "cell_type": "code",
   "execution_count": 25,
   "id": "ab0133a5-06a1-4f33-82d2-72ab9708c880",
   "metadata": {},
   "outputs": [],
   "source": [
    "X = df_train.drop(['SalePrice'], axis=1) \n",
    "y = df_train['SalePrice']"
   ]
  },
  {
   "cell_type": "code",
   "execution_count": 26,
   "id": "c1b93c95-5a6f-461f-8b52-1388d3a8f4ff",
   "metadata": {},
   "outputs": [],
   "source": [
    "from sklearn.model_selection import train_test_split\n",
    "X_train,X_test,y_train,y_test=train_test_split(X,y,test_size=0.2,random_state=42)"
   ]
  },
  {
   "cell_type": "code",
   "execution_count": 27,
   "id": "06d74508-97d5-4cd1-a0b9-c15c701ed8bc",
   "metadata": {},
   "outputs": [],
   "source": [
    "from sklearn.linear_model import LinearRegression\n",
    "from sklearn.tree import DecisionTreeRegressor\n",
    "from sklearn.ensemble import RandomForestRegressor\n",
    "from xgboost import XGBRegressor\n",
    "from sklearn.metrics import mean_absolute_error, mean_squared_error"
   ]
  },
  {
   "cell_type": "markdown",
   "id": "af039c1d-84de-4d02-b9c2-ee92c46fd257",
   "metadata": {},
   "source": [
    "Linear Regression"
   ]
  },
  {
   "cell_type": "code",
   "execution_count": 28,
   "id": "036fcae7-d14e-43f2-8d00-09c20bb27276",
   "metadata": {},
   "outputs": [],
   "source": [
    "linear = LinearRegression()\n",
    "linear.fit(X_train, y_train)\n",
    "\n",
    "linear_predict = linear.predict(X_test)\n",
    "\n",
    "linear_accuracy =  linear.score(X_test, y_test)"
   ]
  },
  {
   "cell_type": "markdown",
   "id": "b746147b-30ed-41ca-b480-bd575bb6d2c0",
   "metadata": {},
   "source": [
    "Decision Tree"
   ]
  },
  {
   "cell_type": "code",
   "execution_count": 29,
   "id": "eba105b8-3dc7-4b25-bf49-b605ba3b42e3",
   "metadata": {},
   "outputs": [],
   "source": [
    "dtree = DecisionTreeRegressor()\n",
    "dtree.fit(X_train, y_train)\n",
    "\n",
    "dtree_predict = dtree.predict(X_test)\n",
    "\n",
    "dtree_accuracy = dtree.score(X_test, y_test)"
   ]
  },
  {
   "cell_type": "markdown",
   "id": "9bc79dec-e8d6-467c-93e7-e2cf54d09d65",
   "metadata": {},
   "source": [
    "Random Forest"
   ]
  },
  {
   "cell_type": "code",
   "execution_count": 30,
   "id": "d542fffa-e7e8-45f7-80cc-cabfbce57e4c",
   "metadata": {},
   "outputs": [],
   "source": [
    "ran_fo = RandomForestRegressor()\n",
    "ran_fo.fit(X_train, y_train)\n",
    "\n",
    "ran_fo_predict = ran_fo.predict(X_test)\n",
    "\n",
    "ran_fo_accuracy = ran_fo.score(X_test, y_test) "
   ]
  },
  {
   "cell_type": "markdown",
   "id": "bba357e5-0982-4b7f-ba3c-21a5536df4f6",
   "metadata": {},
   "source": [
    "XGB regressor"
   ]
  },
  {
   "cell_type": "code",
   "execution_count": 31,
   "id": "204ea4e1-3763-4a0c-b116-93f77134c040",
   "metadata": {},
   "outputs": [],
   "source": [
    "xgb = XGBRegressor()\n",
    "xgb.fit(X_train, y_train)\n",
    "\n",
    "xgb_predict = xgb.predict(X_test)\n",
    "\n",
    "xgb_accuracy = xgb.score(X_test, y_test)"
   ]
  },
  {
   "cell_type": "code",
   "execution_count": 32,
   "id": "dc7746d3-d164-4c79-b854-34169e7f5dbd",
   "metadata": {},
   "outputs": [
    {
     "data": {
      "text/html": [
       "<div>\n",
       "<style scoped>\n",
       "    .dataframe tbody tr th:only-of-type {\n",
       "        vertical-align: middle;\n",
       "    }\n",
       "\n",
       "    .dataframe tbody tr th {\n",
       "        vertical-align: top;\n",
       "    }\n",
       "\n",
       "    .dataframe thead th {\n",
       "        text-align: right;\n",
       "    }\n",
       "</style>\n",
       "<table border=\"1\" class=\"dataframe\">\n",
       "  <thead>\n",
       "    <tr style=\"text-align: right;\">\n",
       "      <th></th>\n",
       "      <th>Model</th>\n",
       "    </tr>\n",
       "    <tr>\n",
       "      <th>Score</th>\n",
       "      <th></th>\n",
       "    </tr>\n",
       "  </thead>\n",
       "  <tbody>\n",
       "    <tr>\n",
       "      <th>0.898825</th>\n",
       "      <td>Random Forest</td>\n",
       "    </tr>\n",
       "    <tr>\n",
       "      <th>0.891522</th>\n",
       "      <td>XGB Regressor</td>\n",
       "    </tr>\n",
       "    <tr>\n",
       "      <th>0.849412</th>\n",
       "      <td>Linear Regression</td>\n",
       "    </tr>\n",
       "    <tr>\n",
       "      <th>0.760332</th>\n",
       "      <td>Decision Tree</td>\n",
       "    </tr>\n",
       "  </tbody>\n",
       "</table>\n",
       "</div>"
      ],
      "text/plain": [
       "                      Model\n",
       "Score                      \n",
       "0.898825      Random Forest\n",
       "0.891522      XGB Regressor\n",
       "0.849412  Linear Regression\n",
       "0.760332      Decision Tree"
      ]
     },
     "execution_count": 32,
     "metadata": {},
     "output_type": "execute_result"
    }
   ],
   "source": [
    "mc = pd.DataFrame({'Model': ['Linear Regression', 'Decision Tree', 'Random Forest', 'XGB Regressor'], 'Score': [linear_accuracy, dtree_accuracy, ran_fo_accuracy, xgb_accuracy]})\n",
    "mc_s = mc.sort_values(by = 'Score', ascending = False)\n",
    "mc_s = mc_s.set_index('Score')\n",
    "mc_s"
   ]
  },
  {
   "cell_type": "code",
   "execution_count": 33,
   "id": "1d8fa6ab-72f2-4b95-9a24-564dec69d67e",
   "metadata": {},
   "outputs": [
    {
     "name": "stdout",
     "output_type": "stream",
     "text": [
      "Mean MAE: 17688.613 (1884.320)\n"
     ]
    }
   ],
   "source": [
    "from numpy import absolute\n",
    "from sklearn.model_selection import cross_val_score\n",
    "from sklearn.model_selection import RepeatedKFold\n",
    "cv = RepeatedKFold(n_splits=10, n_repeats=3, random_state=1)\n",
    "scores = cross_val_score(xgb, X, y, scoring='neg_mean_absolute_error', cv=cv, n_jobs=-1)\n",
    "scores = absolute(scores)\n",
    "print('Mean MAE: %.3f (%.3f)' % (scores.mean(), scores.std()) )"
   ]
  },
  {
   "cell_type": "code",
   "execution_count": 34,
   "id": "4e28e68b",
   "metadata": {},
   "outputs": [],
   "source": [
    "pred = xgb.predict(X_test)"
   ]
  },
  {
   "cell_type": "markdown",
   "id": "b2a8be28",
   "metadata": {},
   "source": [
    "### a. Complete The First Practical Of House Price Prediction Using Ridge & Lasso."
   ]
  },
  {
   "cell_type": "markdown",
   "id": "5e8d886c",
   "metadata": {},
   "source": [
    "Ridge regression"
   ]
  },
  {
   "cell_type": "code",
   "execution_count": 35,
   "id": "949751ac-d084-4b8e-b91e-315ec33e77cb",
   "metadata": {},
   "outputs": [],
   "source": [
    "from sklearn.linear_model import Ridge\n",
    "from sklearn.linear_model import RidgeCV"
   ]
  },
  {
   "cell_type": "code",
   "execution_count": 36,
   "id": "e62c5d81-6789-4e33-95f6-70ae67efc7f6",
   "metadata": {},
   "outputs": [
    {
     "name": "stdout",
     "output_type": "stream",
     "text": [
      "Mean MAE: 21000.402 (2100.382)\n",
      "10.0\n"
     ]
    }
   ],
   "source": [
    "cv = RepeatedKFold(n_splits=10, n_repeats=3, random_state=1)\n",
    "model = RidgeCV(cv=cv, scoring='neg_mean_absolute_error')\n",
    "model.fit(X_train, y_train)\n",
    "\n",
    "cv = RepeatedKFold(n_splits=10, n_repeats=3, random_state=1)\n",
    "scores = cross_val_score(model, X, y, scoring='neg_mean_absolute_error', cv=cv, n_jobs=-1)\n",
    "scores = absolute(scores)\n",
    "print('Mean MAE: %.3f (%.3f)' % (scores.mean(), scores.std()) )\n",
    "\n",
    "print(model.alpha_)"
   ]
  },
  {
   "cell_type": "code",
   "execution_count": 37,
   "id": "35dabb29-0dae-467e-ba0e-78490d327a1b",
   "metadata": {},
   "outputs": [],
   "source": [
    "pred1 = model.predict(X_test)"
   ]
  },
  {
   "cell_type": "markdown",
   "id": "4459dae5",
   "metadata": {},
   "source": [
    "Lasso regression"
   ]
  },
  {
   "cell_type": "code",
   "execution_count": 38,
   "id": "0933e0b7",
   "metadata": {},
   "outputs": [
    {
     "name": "stderr",
     "output_type": "stream",
     "text": [
      "C:\\Users\\Radha Krishna\\anaconda3\\lib\\site-packages\\sklearn\\linear_model\\_coordinate_descent.py:648: ConvergenceWarning: Objective did not converge. You might want to increase the number of iterations, check the scale of the features or consider increasing regularisation. Duality gap: 4.863e+11, tolerance: 6.967e+08\n",
      "  model = cd_fast.enet_coordinate_descent(\n"
     ]
    },
    {
     "name": "stdout",
     "output_type": "stream",
     "text": [
      "Mean MAE: 21425.436 (2105.593)\n"
     ]
    }
   ],
   "source": [
    "from sklearn.linear_model import Lasso\n",
    "las = Lasso(alpha=1.0)\n",
    "las.fit(X_train,y_train)\n",
    "\n",
    "cv = RepeatedKFold(n_splits=10, n_repeats=3, random_state=1)\n",
    "scores = cross_val_score(las, X, y, scoring='neg_mean_absolute_error', cv=cv, n_jobs=-1)\n",
    "scores = absolute(scores)\n",
    "print('Mean MAE: %.3f (%.3f)' % (scores.mean(), scores.std()) )"
   ]
  },
  {
   "cell_type": "code",
   "execution_count": 39,
   "id": "9a9c7302",
   "metadata": {},
   "outputs": [],
   "source": [
    "pred2 = las.predict(X_test)"
   ]
  },
  {
   "cell_type": "markdown",
   "id": "a93edfbe",
   "metadata": {},
   "source": [
    "### b. Compare the Accuracy between lasso & Ridge."
   ]
  },
  {
   "cell_type": "code",
   "execution_count": 40,
   "id": "33db2310",
   "metadata": {},
   "outputs": [
    {
     "name": "stdout",
     "output_type": "stream",
     "text": [
      "Ridge train accuracy: 0.8443199059752968\n",
      "Ridge test accuracy: 0.852002675450438\n",
      "\n",
      "\n",
      "Lasso train accuracy: 0.8443199059752968\n",
      "Lasso test accuracy: 0.8494446613827805\n"
     ]
    }
   ],
   "source": [
    "# Accuracy between Ridge and lasso\n",
    "ridge_train_accuracy = model.score(X_train, y_train)\n",
    "ridge_test_accuracy = model.score(X_test, y_test)\n",
    "print(\"Ridge train accuracy:\",ridge_train_accuracy)\n",
    "print(\"Ridge test accuracy:\",ridge_test_accuracy)\n",
    "print(\"\\n\")\n",
    "\n",
    "las_train_accuracy = model.score(X_train, y_train)\n",
    "las_test_accuracy = las.score(X_test, y_test)\n",
    "print(\"Lasso train accuracy:\",las_train_accuracy)\n",
    "print(\"Lasso test accuracy:\",las_test_accuracy)"
   ]
  },
  {
   "cell_type": "markdown",
   "id": "b11c351c",
   "metadata": {},
   "source": [
    "Ridge regressor has higher accuracy as compared to lasso regressor."
   ]
  },
  {
   "cell_type": "code",
   "execution_count": 41,
   "id": "c9966772",
   "metadata": {},
   "outputs": [
    {
     "name": "stderr",
     "output_type": "stream",
     "text": [
      "C:\\Users\\Radha Krishna\\anaconda3\\lib\\site-packages\\sklearn\\base.py:450: UserWarning: X does not have valid feature names, but Lasso was fitted with feature names\n",
      "  warnings.warn(\n"
     ]
    },
    {
     "data": {
      "image/png": "[encoded data removed]",
      "text/plain": [
       "<Figure size 576x396 with 1 Axes>"
      ]
     },
     "metadata": {},
     "output_type": "display_data"
    },
    {
     "name": "stderr",
     "output_type": "stream",
     "text": [
      "C:\\Users\\Radha Krishna\\anaconda3\\lib\\site-packages\\sklearn\\base.py:450: UserWarning: X does not have valid feature names, but Lasso was fitted with feature names\n",
      "  warnings.warn(\n"
     ]
    },
    {
     "data": {
      "image/png": "[encoded data removed]",
      "text/plain": [
       "<Figure size 576x396 with 2 Axes>"
      ]
     },
     "metadata": {},
     "output_type": "display_data"
    },
    {
     "data": {
      "text/plain": [
       "<AxesSubplot:title={'center':'Residuals for Lasso Model'}, xlabel='Predicted Value', ylabel='Residuals'>"
      ]
     },
     "execution_count": 41,
     "metadata": {},
     "output_type": "execute_result"
    }
   ],
   "source": [
    "from yellowbrick.regressor import PredictionError, ResidualsPlot\n",
    "viz = PredictionError(las)\n",
    "viz.fit(X_train, y_train)\n",
    "viz.score(X_test, y_test)\n",
    "viz.poof()\n",
    "\n",
    "viz_r = ResidualsPlot(las)\n",
    "viz_r.fit(X_train, y_train)\n",
    "viz_r.score(X_test, y_test)\n",
    "viz_r.poof()"
   ]
  },
  {
   "cell_type": "code",
   "execution_count": 42,
   "id": "d0f51b07",
   "metadata": {},
   "outputs": [
    {
     "name": "stderr",
     "output_type": "stream",
     "text": [
      "C:\\Users\\Radha Krishna\\anaconda3\\lib\\site-packages\\sklearn\\base.py:450: UserWarning: X does not have valid feature names, but RidgeCV was fitted with feature names\n",
      "  warnings.warn(\n"
     ]
    },
    {
     "data": {
      "image/png": "[encoded data removed]",
      "text/plain": [
       "<Figure size 576x396 with 1 Axes>"
      ]
     },
     "metadata": {},
     "output_type": "display_data"
    },
    {
     "name": "stderr",
     "output_type": "stream",
     "text": [
      "C:\\Users\\Radha Krishna\\anaconda3\\lib\\site-packages\\sklearn\\base.py:450: UserWarning: X does not have valid feature names, but RidgeCV was fitted with feature names\n",
      "  warnings.warn(\n"
     ]
    },
    {
     "data": {
      "image/png": "[encoded data removed]",
      "text/plain": [
       "<Figure size 576x396 with 2 Axes>"
      ]
     },
     "metadata": {},
     "output_type": "display_data"
    },
    {
     "data": {
      "text/plain": [
       "<AxesSubplot:title={'center':'Residuals for RidgeCV Model'}, xlabel='Predicted Value', ylabel='Residuals'>"
      ]
     },
     "execution_count": 42,
     "metadata": {},
     "output_type": "execute_result"
    }
   ],
   "source": [
    "vi = PredictionError(model)\n",
    "vi.fit(X_train, y_train)\n",
    "vi.score(X_test, y_test)\n",
    "viz.poof()\n",
    "\n",
    "vi_r = ResidualsPlot(model)\n",
    "vi_r.fit(X_train, y_train)\n",
    "vi_r.score(X_test, y_test)\n",
    "vi_r.poof()"
   ]
  },
  {
   "cell_type": "markdown",
   "id": "33ae208f",
   "metadata": {},
   "source": [
    "### Thank You!"
   ]
  }
 ],
 "metadata": {
  "kernelspec": {
   "display_name": "Python 3 (ipykernel)",
   "language": "python",
   "name": "python3"
  },
  "language_info": {
   "codemirror_mode": {
    "name": "ipython",
    "version": 3
   },
   "file_extension": ".py",
   "mimetype": "text/x-python",
   "name": "python",
   "nbconvert_exporter": "python",
   "pygments_lexer": "ipython3",
   "version": "3.9.12"
  }
 },
 "nbformat": 4,
 "nbformat_minor": 5
}
